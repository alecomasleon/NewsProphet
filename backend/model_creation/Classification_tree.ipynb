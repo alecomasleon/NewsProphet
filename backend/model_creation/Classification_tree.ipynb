{
 "cells": [
  {
   "cell_type": "code",
   "execution_count": 16,
   "metadata": {
    "collapsed": true,
    "ExecuteTime": {
     "end_time": "2024-02-18T00:21:03.722660500Z",
     "start_time": "2024-02-18T00:21:03.711640400Z"
    }
   },
   "outputs": [],
   "source": [
    "import numpy as np\n",
    "import matplotlib.pyplot as plt\n",
    "import pandas as pd\n",
    "import sklearn\n",
    "from sklearn.model_selection import train_test_split\n",
    "from sklearn.tree import DecisionTreeClassifier\n",
    "\n",
    "# imports to visualize tree\n",
    "from sklearn import tree as treeViz\n",
    "import graphviz\n",
    "# import pydotplus\n",
    "from IPython.display import display"
   ]
  },
  {
   "cell_type": "code",
   "execution_count": 17,
   "outputs": [
    {
     "name": "stdout",
     "output_type": "stream",
     "text": [
      "<class 'pandas.core.frame.DataFrame'>\n",
      "<class 'numpy.ndarray'>\n",
      "<class 'pandas.core.frame.DataFrame'>\n",
      "<class 'numpy.ndarray'>\n",
      "(19821, 58)\n",
      "(11894, 58)\n",
      "(7929, 58)\n",
      "targets: [[-0.14581653]\n",
      " [-0.15441734]\n",
      " [ 0.11220795]\n",
      " ...\n",
      " [ 0.09500632]\n",
      " [-0.25023043]\n",
      " [-0.1888206 ]]\n",
      "data: [[-1.60772590e+00 -4.74451259e-01  1.78983723e-03 ...  5.47157435e-01\n",
      "  -1.19274310e+00  2.67809642e-01]\n",
      " [ 1.23048186e+00  9.19437671e+00 -7.39034343e-02 ...  2.44637285e-01\n",
      "  -1.56994907e+00 -8.70560322e-02]\n",
      " [ 7.57447233e-01 -3.51335557e-01  3.25676620e-03 ...  1.23781665e+00\n",
      "  -2.21638357e-01  1.07797467e+00]\n",
      " ...\n",
      " [ 1.23048186e+00 -7.27050716e-01  2.79063632e-02 ...  1.23781665e+00\n",
      "  -2.21638357e-01  1.07797467e+00]\n",
      " [ 2.84412606e-01  3.28703405e-02 -9.31336282e-03 ... -3.05226384e-01\n",
      "  -1.13121305e+00 -6.47252789e-01]\n",
      " [-1.88622020e-01 -6.59124812e-01  1.32395104e-02 ... -2.69076177e-01\n",
      "   8.37748634e-01 -6.89658121e-01]]\n",
      "<class 'pandas.core.frame.DataFrame'>\n",
      "<class 'numpy.ndarray'>\n",
      "<class 'pandas.core.frame.DataFrame'>\n",
      "<class 'numpy.ndarray'>\n"
     ]
    }
   ],
   "source": [
    "# load data\n",
    "%run preprocess.ipynb\n",
    "X_train, y_train, X_val, y_val, X_test, y_test = get_processed_data()"
   ],
   "metadata": {
    "collapsed": false,
    "ExecuteTime": {
     "end_time": "2024-02-18T00:21:18.622606Z",
     "start_time": "2024-02-18T00:21:03.720641800Z"
    }
   }
  },
  {
   "cell_type": "code",
   "execution_count": 18,
   "outputs": [
    {
     "name": "stdout",
     "output_type": "stream",
     "text": [
      "Training Accuracy: 0.9276312287879077\n",
      "Validation Accuracy: -0.15109389063595713\n",
      "Validation Mean Squared Error: 3.0213350227920515\n"
     ]
    }
   ],
   "source": [
    "# Creating a DecisionTreeRegressor model\n",
    "from sklearn import tree\n",
    "from sklearn.metrics import mean_squared_error\n",
    "regression_tree = tree.DecisionTreeRegressor(criterion=\"friedman_mse\", splitter=\"best\", max_depth=19, min_samples_split=2, min_samples_leaf=1)\n",
    "regression_tree.fit(X_train, y_train)\n",
    "# Make predictions on the test set\n",
    "y_pred = regression_tree.predict(X_val)\n",
    "# Evaluate the model\n",
    "mse = mean_squared_error(y_val, y_pred)\n",
    "\n",
    "# Print the training and validation scores (accuracy)\n",
    "print(\"Training Accuracy:\", regression_tree.score(X_train, y_train))\n",
    "print(\"Validation Accuracy:\", regression_tree.score(X_val, y_val))\n",
    "print(\"Validation Mean Squared Error:\", mse)\n",
    "\n"
   ],
   "metadata": {
    "collapsed": false,
    "ExecuteTime": {
     "end_time": "2024-02-18T00:21:22.349793200Z",
     "start_time": "2024-02-18T00:21:18.627604700Z"
    }
   }
  },
  {
   "cell_type": "code",
   "execution_count": 19,
   "outputs": [
    {
     "name": "stdout",
     "output_type": "stream",
     "text": [
      "Mean Squared Error: 3.0213350227920515\n",
      "R2 Score: -0.15109389063595713\n",
      "Feature Importances: [1.50137280e-02 4.67857997e-02 1.29760540e-01 0.00000000e+00\n",
      " 1.42208512e-02 8.35919640e-03 2.15104433e-03 8.70444509e-03\n",
      " 5.13051697e-03 1.75312721e-01 2.96461761e-03 2.12229698e-03\n",
      " 2.82961401e-04 6.11890619e-03 2.35195509e-03 2.58728395e-04\n",
      " 6.78870737e-06 9.30570308e-04 1.04266634e-02 7.12170482e-03\n",
      " 3.24082941e-03 6.20742376e-03 2.73772474e-02 5.86416584e-03\n",
      " 3.24732641e-02 3.06430913e-02 2.19653553e-02 7.06829368e-03\n",
      " 5.39853007e-02 2.83243881e-04 7.01674030e-04 2.48195227e-03\n",
      " 8.22801577e-04 6.94336716e-05 1.59206566e-04 1.36927791e-04\n",
      " 1.15405689e-03 4.77571731e-02 1.72398584e-02 1.28248160e-02\n",
      " 2.46322458e-02 3.62575041e-03 1.24266961e-01 6.27589384e-03\n",
      " 8.98295604e-03 8.96763666e-03 1.90100167e-03 7.86606832e-03\n",
      " 8.25037001e-03 6.70213253e-03 1.36005292e-03 2.17122414e-02\n",
      " 3.93447910e-03 9.13040888e-03 2.24406593e-02 1.63537536e-02\n",
      " 2.72390286e-03 1.03933345e-02]\n",
      "Number of Outputs: 1\n",
      "Number of Nodes: 6975\n",
      "Max Depth: 19\n",
      "Min Samples Split: 2\n",
      "Min Samples Leaf: 1\n"
     ]
    }
   ],
   "source": [
    "print(\"Mean Squared Error:\", mse)\n",
    "print(\"R2 Score:\", regression_tree.score(X_val, y_val))\n",
    "print(\"Feature Importances:\", regression_tree.feature_importances_)\n",
    "print(\"Number of Outputs:\", regression_tree.n_outputs_)\n",
    "print(\"Number of Nodes:\", regression_tree.tree_.node_count)\n",
    "print(\"Max Depth:\", regression_tree.tree_.max_depth)\n",
    "print(\"Min Samples Split:\", regression_tree.min_samples_split)\n",
    "print(\"Min Samples Leaf:\", regression_tree.min_samples_leaf)"
   ],
   "metadata": {
    "collapsed": false,
    "ExecuteTime": {
     "end_time": "2024-02-18T00:21:22.361721300Z",
     "start_time": "2024-02-18T00:21:22.352791600Z"
    }
   }
  },
  {
   "cell_type": "code",
   "execution_count": 20,
   "outputs": [],
   "source": [
    "def hyperparameter_tune_grid_search(criterion, min_samples_split, splitter, max_depth, X_train, y_train, X_val, y_val):\n",
    "    \"\"\"Tune hyperparameters using grid search. Return the best score and the best parameters.\n",
    "    param criterion: list of strings, the function to measure the quality of a split\n",
    "    param min_samples_split: list of integers, the minimum number of samples required to split an internal node\n",
    "    param splitter: list of strings, the strategy used to choose the split at each node\n",
    "    param max_depth: list of integers, the maximum depth of the tree\n",
    "    param X_train: array-like, the training input samples\n",
    "    param y_train: array-like, the target values\"\"\"\n",
    "    best_score = 0\n",
    "    best_params = {}\n",
    "    for c in criterion:\n",
    "        for mss in min_samples_split:\n",
    "            for s in splitter:\n",
    "                for md in max_depth:\n",
    "                    regression_tree = tree.DecisionTreeRegressor(criterion=c, splitter=s, max_depth=md, min_samples_split=mss, min_samples_leaf=1)\n",
    "                    regression_tree.fit(X_train, y_train)\n",
    "                    score = regression_tree.score(X_val, y_val)\n",
    "                    mse = mean_squared_error(y_val, y_pred)\n",
    "                    if score > best_score:\n",
    "                        best_score = score\n",
    "                        best_params = {\"criterion\": c, \"min_samples_split\": mss, \"splitter\": s, \"max_depth\": md}\n",
    "    return best_score, best_params"
   ],
   "metadata": {
    "collapsed": false,
    "ExecuteTime": {
     "end_time": "2024-02-18T00:21:22.372698700Z",
     "start_time": "2024-02-18T00:21:22.366719100Z"
    }
   }
  },
  {
   "cell_type": "code",
   "execution_count": 21,
   "outputs": [
    {
     "data": {
      "text/plain": "(0.008252970958679273,\n {'criterion': 'squared_error',\n  'min_samples_split': 5,\n  'splitter': 'random',\n  'max_depth': 5})"
     },
     "execution_count": 21,
     "metadata": {},
     "output_type": "execute_result"
    }
   ],
   "source": [
    "hyperparameter_tune_grid_search(['friedman_mse', 'squared_error'], [3, 5, 8], [\"best\", \"random\"], [5, 10, 15, 20, 50], X_train, y_train, X_val, y_val)"
   ],
   "metadata": {
    "collapsed": false,
    "ExecuteTime": {
     "end_time": "2024-02-18T00:22:53.918314200Z",
     "start_time": "2024-02-18T00:21:22.378690400Z"
    }
   }
  },
  {
   "cell_type": "code",
   "execution_count": null,
   "outputs": [],
   "source": [
    "scores = []\n",
    "mse_list = []\n",
    "max_depths = []\n",
    "min_samples_splits = []\n",
    "for i in range(1, 100):\n",
    "    for j in range(2, 100,5):\n",
    "        regression_tree = tree.DecisionTreeRegressor(criterion=\"friedman_mse\", splitter=\"best\", max_depth=i, min_samples_split=j, min_samples_leaf=1)\n",
    "        regression_tree.fit(X_train, y_train)\n",
    "        y_pred = regression_tree.predict(X_val)\n",
    "        score = regression_tree.score(X_val, y_val)\n",
    "        mse = mean_squared_error(y_val, y_pred)\n",
    "        scores.append(score)\n",
    "        mse_list.append(mse)\n",
    "        max_depths.append(i)\n",
    "        min_samples_splits.append(j)\n",
    "\n",
    "\n",
    "# plot a 3d scatter plot\n",
    "fig = plt.figure()\n",
    "ax = fig.add_subplot(111, projection='3d')\n",
    "ax.scatter(max_depths, min_samples_splits, scores)\n",
    "ax.set_xlabel('Max Depth')\n",
    "ax.set_ylabel('Min Samples Split')\n",
    "ax.set_zlabel('Score')\n",
    "plt.show()\n",
    "\n",
    "# plot a 3d scatter plot\n",
    "fig = plt.figure()\n",
    "ax = fig.add_subplot(111, projection='3d')\n",
    "ax.scatter(max_depths, min_samples_splits, mse_list)\n",
    "ax.set_xlabel('Max Depth')\n",
    "ax.set_ylabel('Min Samples Split')\n",
    "ax.set_zlabel('Mean Squared Error')\n",
    "plt.show()\n",
    "\n",
    "\n"
   ],
   "metadata": {
    "collapsed": false,
    "is_executing": true,
    "ExecuteTime": {
     "start_time": "2024-02-18T01:00:04.538886500Z"
    }
   }
  },
  {
   "cell_type": "code",
   "execution_count": null,
   "outputs": [],
   "source": [],
   "metadata": {
    "collapsed": false
   }
  }
 ],
 "metadata": {
  "kernelspec": {
   "display_name": "Python 3",
   "language": "python",
   "name": "python3"
  },
  "language_info": {
   "codemirror_mode": {
    "name": "ipython",
    "version": 2
   },
   "file_extension": ".py",
   "mimetype": "text/x-python",
   "name": "python",
   "nbconvert_exporter": "python",
   "pygments_lexer": "ipython2",
   "version": "2.7.6"
  }
 },
 "nbformat": 4,
 "nbformat_minor": 0
}
