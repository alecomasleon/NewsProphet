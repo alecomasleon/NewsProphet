{
 "cells": [
  {
   "cell_type": "code",
   "execution_count": 16,
   "metadata": {},
   "outputs": [],
   "source": [
    "import sys\n",
    "sys.path.append('/usr/local/lib/python3.9/site-packages/')\n",
    "\n",
    "from sklearn.linear_model import LinearRegression, SGDRegressor\n",
    "import numpy as np"
   ]
  },
  {
   "cell_type": "code",
   "execution_count": 2,
   "metadata": {},
   "outputs": [
    {
     "name": "stdout",
     "output_type": "stream",
     "text": [
      "(19821, 58)\n",
      "(11894, 58)\n",
      "(7929, 58)\n"
     ]
    }
   ],
   "source": [
    "%run preprocess.ipynb\n",
    "X_train, y_train, X_val, y_val, X_test, y_test = get_processed_data(test_size=0.15, val_size=0.000000001)"
   ]
  },
  {
   "cell_type": "code",
   "execution_count": 3,
   "metadata": {},
   "outputs": [],
   "source": [
    "%run evaluate_model.ipynb"
   ]
  },
  {
   "cell_type": "code",
   "execution_count": 4,
   "metadata": {},
   "outputs": [
    {
     "name": "stdout",
     "output_type": "stream",
     "text": [
      "r2 score: 0.03388488887776775\n",
      "mean absolute error: 0.2577917952122935\n",
      "mean squared error: 0.5957937149309394\n"
     ]
    },
    {
     "data": {
      "text/plain": [
       "(0.03388488887776775, 0.2577917952122935, 0.5957937149309394)"
      ]
     },
     "execution_count": 4,
     "metadata": {},
     "output_type": "execute_result"
    }
   ],
   "source": [
    "# Linear Regression\n",
    "model = LinearRegression().fit(X_train, y_train)\n",
    "y_pred = model.predict(X_test)\n",
    "evaluate_model(y_test, y_pred)"
   ]
  },
  {
   "cell_type": "code",
   "execution_count": 19,
   "metadata": {},
   "outputs": [
    {
     "name": "stdout",
     "output_type": "stream",
     "text": [
      "r2 score: -3.633268156610019e+16\n",
      "mean absolute error: 114245667.26559733\n",
      "mean squared error: 2.2406008429497544e+16\n"
     ]
    },
    {
     "data": {
      "text/plain": [
       "(-3.633268156610019e+16, 114245667.26559733, 2.2406008429497544e+16)"
      ]
     },
     "execution_count": 19,
     "metadata": {},
     "output_type": "execute_result"
    }
   ],
   "source": [
    "# SGDRegressor\n",
    "model = SGDRegressor().fit(X_train, np.ravel(y_train))\n",
    "y_pred = model.predict(X_test)\n",
    "evaluate_model(y_test, y_pred)"
   ]
  },
  {
   "cell_type": "code",
   "execution_count": 11,
   "metadata": {},
   "outputs": [
    {
     "data": {
      "text/plain": [
       "array([ 0.15521203, -0.09421163, -0.00820347, ...,  0.02619979,\n",
       "       -0.21892346, -0.13721571])"
      ]
     },
     "execution_count": 11,
     "metadata": {},
     "output_type": "execute_result"
    }
   ],
   "source": [
    "y_test.reshape(y_test.shape[0], )"
   ]
  }
 ],
 "metadata": {
  "kernelspec": {
   "display_name": "Python 3",
   "language": "python",
   "name": "python3"
  },
  "language_info": {
   "codemirror_mode": {
    "name": "ipython",
    "version": 3
   },
   "file_extension": ".py",
   "mimetype": "text/x-python",
   "name": "python",
   "nbconvert_exporter": "python",
   "pygments_lexer": "ipython3",
   "version": "3.0.0"
  }
 },
 "nbformat": 4,
 "nbformat_minor": 2
}
