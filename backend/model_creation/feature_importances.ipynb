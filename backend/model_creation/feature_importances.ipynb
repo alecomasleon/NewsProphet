{
 "cells": [
  {
   "cell_type": "code",
   "execution_count": 6,
   "metadata": {},
   "outputs": [],
   "source": [
    "import sys\n",
    "sys.path.append('/usr/local/lib/python3.9/site-packages/')\n",
    "\n",
    "from ucimlrepo import fetch_ucirepo"
   ]
  },
  {
   "cell_type": "code",
   "execution_count": null,
   "metadata": {},
   "outputs": [],
   "source": [
    "%run preprocess.ipynb"
   ]
  },
  {
   "cell_type": "code",
   "execution_count": 8,
   "metadata": {},
   "outputs": [],
   "source": [
    "feature_importances = [1.39287371e-02, 4.93406227e-02, 1.08894949e-01, 2.57731439e-07\n",
    ", 1.24954733e-02, 8.89952543e-03, 3.56595565e-03, 4.28898272e-03\n",
    ", 1.34190797e-02, 1.63843036e-01, 6.66522038e-03, 2.08367383e-03\n",
    ", 1.76299436e-03, 4.99732416e-03, 2.29221616e-03, 3.39698183e-04\n",
    ", 5.77823950e-05, 8.25572083e-04, 1.08664326e-02, 1.10871869e-02\n",
    ", 4.28779180e-03, 6.59041620e-03, 2.06079370e-02, 5.61283492e-03\n",
    ", 2.65759986e-02, 4.01119717e-02, 2.53980779e-02, 7.94840875e-03\n",
    ", 5.47493679e-02, 1.85676637e-03, 6.05053285e-04, 1.36709543e-03\n",
    ", 8.45964653e-04, 1.50904353e-04, 4.32121263e-04, 1.13610406e-03\n",
    ", 5.55430224e-04, 5.16500243e-02, 1.72693854e-02, 9.99374608e-03\n",
    ", 1.95640994e-02, 1.76465813e-02, 2.67671153e-02, 1.01843943e-02\n",
    ", 9.13408726e-03, 1.08053721e-02, 8.90054248e-02, 3.28805446e-03\n",
    ", 1.70017590e-02, 6.85599327e-03, 1.93620554e-03, 9.20970091e-03\n",
    ", 1.56141180e-02, 8.79025893e-03, 1.06897676e-02, 1.21526685e-02\n",
    ", 4.55917537e-03, 2.93951038e-02]"
   ]
  },
  {
   "cell_type": "code",
   "execution_count": 9,
   "metadata": {},
   "outputs": [
    {
     "data": {
      "text/plain": [
       "' n_tokens_title'"
      ]
     },
     "execution_count": 9,
     "metadata": {},
     "output_type": "execute_result"
    }
   ],
   "source": [
    "X, y = get_raw_data()\n",
    "X.columns[0]"
   ]
  },
  {
   "cell_type": "code",
   "execution_count": null,
   "metadata": {},
   "outputs": [],
   "source": [
    "fi = {}\n",
    "for i in range(len(feature_importances)):\n",
    "    fi[X.columns[i]] = feature_importances[i]\n",
    "\n",
    "fi"
   ]
  },
  {
   "cell_type": "code",
   "execution_count": 12,
   "metadata": {},
   "outputs": [
    {
     "data": {
      "text/plain": [
       "[(' average_token_length', 0.163843036),\n",
       " (' n_unique_tokens', 0.108894949),\n",
       " (' rate_positive_words', 0.0890054248),\n",
       " (' self_reference_avg_sharess', 0.0547493679),\n",
       " (' LDA_00', 0.0516500243),\n",
       " (' n_tokens_content', 0.0493406227),\n",
       " (' kw_avg_avg', 0.0401119717),\n",
       " (' abs_title_sentiment_polarity', 0.0293951038),\n",
       " (' global_subjectivity', 0.0267671153),\n",
       " (' kw_max_avg', 0.0265759986),\n",
       " (' self_reference_min_shares', 0.0253980779),\n",
       " (' kw_avg_max', 0.020607937),\n",
       " (' LDA_03', 0.0195640994),\n",
       " (' LDA_04', 0.0176465813),\n",
       " (' LDA_01', 0.0172693854),\n",
       " (' avg_positive_polarity', 0.017001759),\n",
       " (' min_negative_polarity', 0.015614118),\n",
       " (' n_tokens_title', 0.0139287371),\n",
       " (' num_videos', 0.0134190797),\n",
       " (' n_non_stop_unique_tokens', 0.0124954733),\n",
       " (' title_sentiment_polarity', 0.0121526685),\n",
       " (' kw_avg_min', 0.0110871869),\n",
       " (' kw_max_min', 0.0108664326),\n",
       " (' global_rate_negative_words', 0.0108053721),\n",
       " (' title_subjectivity', 0.0106897676),\n",
       " (' global_sentiment_polarity', 0.0101843943),\n",
       " (' LDA_02', 0.00999374608),\n",
       " (' avg_negative_polarity', 0.00920970091),\n",
       " (' global_rate_positive_words', 0.00913408726),\n",
       " (' num_hrefs', 0.00889952543),\n",
       " (' max_negative_polarity', 0.00879025893),\n",
       " (' self_reference_max_shares', 0.00794840875),\n",
       " (' min_positive_polarity', 0.00685599327),\n",
       " (' num_keywords', 0.00666522038),\n",
       " (' kw_max_max', 0.0065904162),\n",
       " (' kw_min_avg', 0.00561283492),\n",
       " (' data_channel_is_bus', 0.00499732416),\n",
       " (' abs_title_subjectivity', 0.00455917537),\n",
       " (' num_imgs', 0.00428898272),\n",
       " (' kw_min_max', 0.0042877918),\n",
       " (' num_self_hrefs', 0.00356595565),\n",
       " (' rate_negative_words', 0.00328805446),\n",
       " (' data_channel_is_socmed', 0.00229221616),\n",
       " (' data_channel_is_lifestyle', 0.00208367383),\n",
       " (' max_positive_polarity', 0.00193620554),\n",
       " (' weekday_is_monday', 0.00185676637),\n",
       " (' data_channel_is_entertainment', 0.00176299436),\n",
       " (' weekday_is_wednesday', 0.00136709543),\n",
       " (' weekday_is_sunday', 0.00113610406),\n",
       " (' weekday_is_thursday', 0.000845964653),\n",
       " (' kw_min_min', 0.000825572083),\n",
       " (' weekday_is_tuesday', 0.000605053285),\n",
       " (' is_weekend', 0.000555430224),\n",
       " (' weekday_is_saturday', 0.000432121263),\n",
       " (' data_channel_is_tech', 0.000339698183),\n",
       " (' weekday_is_friday', 0.000150904353),\n",
       " (' data_channel_is_world', 5.7782395e-05),\n",
       " (' n_non_stop_words', 2.57731439e-07)]"
      ]
     },
     "execution_count": 12,
     "metadata": {},
     "output_type": "execute_result"
    }
   ],
   "source": [
    "sorted_fi = sorted(fi.items(), key=lambda x: x[1], reverse=True)\n",
    "sorted_fi"
   ]
  }
 ],
 "metadata": {
  "kernelspec": {
   "display_name": "Python 3",
   "language": "python",
   "name": "python3"
  },
  "language_info": {
   "codemirror_mode": {
    "name": "ipython",
    "version": 3
   },
   "file_extension": ".py",
   "mimetype": "text/x-python",
   "name": "python",
   "nbconvert_exporter": "python",
   "pygments_lexer": "ipython3",
   "version": "3.9.6"
  }
 },
 "nbformat": 4,
 "nbformat_minor": 2
}
