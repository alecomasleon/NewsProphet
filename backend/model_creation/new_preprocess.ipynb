{
 "cells": [
  {
   "cell_type": "code",
   "execution_count": 8,
   "metadata": {
    "ExecuteTime": {
     "end_time": "2024-02-18T06:28:30.899986700Z",
     "start_time": "2024-02-18T06:28:30.874730500Z"
    }
   },
   "outputs": [],
   "source": [
    "import sys\n",
    "sys.path.append('/usr/local/lib/python3.9/site-packages/')\n",
    "\n",
    "import pandas as pd\n",
    "from sklearn.preprocessing import StandardScaler\n",
    "from sklearn.model_selection import train_test_split"
   ]
  },
  {
   "cell_type": "code",
   "execution_count": 9,
   "metadata": {
    "ExecuteTime": {
     "end_time": "2024-02-18T06:28:30.947439700Z",
     "start_time": "2024-02-18T06:28:30.881951400Z"
    }
   },
   "outputs": [],
   "source": [
    "df = pd.read_csv('raw_extracted_data_new.csv')"
   ]
  },
  {
   "cell_type": "code",
   "execution_count": 10,
   "metadata": {
    "ExecuteTime": {
     "end_time": "2024-02-18T06:28:30.965954Z",
     "start_time": "2024-02-18T06:28:30.960440900Z"
    }
   },
   "outputs": [
    {
     "data": {
      "text/plain": "   Unnamed: 0                                                url  \\\n0           0  http://mashable.com/2013/01/07/amazon-instant-...   \n1           1  http://mashable.com/2013/01/07/ap-samsung-spon...   \n2           2  http://mashable.com/2013/01/07/apple-40-billio...   \n3           3  http://mashable.com/2013/01/07/astronaut-notre...   \n4           4   http://mashable.com/2013/01/07/att-u-verse-apps/   \n\n   n_tokens_title  n_tokens_content  n_unique_tokens  n_non_stop_words  \\\n0              10               203         0.684729          0.600985   \n1               7               239         0.623431          0.589958   \n2               7               187         0.631016          0.598930   \n3               8               449         0.521158          0.590200   \n4              11               281         0.551601          0.615658   \n\n   n_non_stop_unique_tokens  num_hrefs  num_imgs  num_videos  ...  \\\n0                       102        128         3           0  ...   \n1                       114        126         3           0  ...   \n2                        84        126         3           0  ...   \n3                       188        127         4           0  ...   \n4                       123        124         3           0  ...   \n\n   rate_positive_words  rate_negative_words  avg_positive_polarity  \\\n0                  1.0                  0.0               0.092562   \n1                  1.0                  0.0               0.144949   \n2                  1.0                  0.0               0.301629   \n3                  1.0                  0.0               0.116673   \n4                  1.0                  0.0               0.178451   \n\n   max_positive_polarity  avg_negative_polarity  min_negative_polarity  \\\n0               0.092562                    0.0                    1.0   \n1               0.148948                    0.0                    1.0   \n2               0.323333                    0.0                    1.0   \n3               0.323333                    0.0                    1.0   \n4               0.323333                    0.0                    1.0   \n\n   title_subjectivity  title_sentiment_polarity  abs_title_sentiment_polarity  \\\n0            0.500000                 -0.187500                      0.187500   \n1            0.000000                  0.000000                      0.000000   \n2            0.000000                  0.000000                      0.000000   \n3            0.000000                  0.000000                      0.000000   \n4            0.454545                  0.136364                      0.136364   \n\n   shares  \n0     593  \n1     711  \n2    1500  \n3    1200  \n4     505  \n\n[5 rows x 33 columns]",
      "text/html": "<div>\n<style scoped>\n    .dataframe tbody tr th:only-of-type {\n        vertical-align: middle;\n    }\n\n    .dataframe tbody tr th {\n        vertical-align: top;\n    }\n\n    .dataframe thead th {\n        text-align: right;\n    }\n</style>\n<table border=\"1\" class=\"dataframe\">\n  <thead>\n    <tr style=\"text-align: right;\">\n      <th></th>\n      <th>Unnamed: 0</th>\n      <th>url</th>\n      <th>n_tokens_title</th>\n      <th>n_tokens_content</th>\n      <th>n_unique_tokens</th>\n      <th>n_non_stop_words</th>\n      <th>n_non_stop_unique_tokens</th>\n      <th>num_hrefs</th>\n      <th>num_imgs</th>\n      <th>num_videos</th>\n      <th>...</th>\n      <th>rate_positive_words</th>\n      <th>rate_negative_words</th>\n      <th>avg_positive_polarity</th>\n      <th>max_positive_polarity</th>\n      <th>avg_negative_polarity</th>\n      <th>min_negative_polarity</th>\n      <th>title_subjectivity</th>\n      <th>title_sentiment_polarity</th>\n      <th>abs_title_sentiment_polarity</th>\n      <th>shares</th>\n    </tr>\n  </thead>\n  <tbody>\n    <tr>\n      <th>0</th>\n      <td>0</td>\n      <td>http://mashable.com/2013/01/07/amazon-instant-...</td>\n      <td>10</td>\n      <td>203</td>\n      <td>0.684729</td>\n      <td>0.600985</td>\n      <td>102</td>\n      <td>128</td>\n      <td>3</td>\n      <td>0</td>\n      <td>...</td>\n      <td>1.0</td>\n      <td>0.0</td>\n      <td>0.092562</td>\n      <td>0.092562</td>\n      <td>0.0</td>\n      <td>1.0</td>\n      <td>0.500000</td>\n      <td>-0.187500</td>\n      <td>0.187500</td>\n      <td>593</td>\n    </tr>\n    <tr>\n      <th>1</th>\n      <td>1</td>\n      <td>http://mashable.com/2013/01/07/ap-samsung-spon...</td>\n      <td>7</td>\n      <td>239</td>\n      <td>0.623431</td>\n      <td>0.589958</td>\n      <td>114</td>\n      <td>126</td>\n      <td>3</td>\n      <td>0</td>\n      <td>...</td>\n      <td>1.0</td>\n      <td>0.0</td>\n      <td>0.144949</td>\n      <td>0.148948</td>\n      <td>0.0</td>\n      <td>1.0</td>\n      <td>0.000000</td>\n      <td>0.000000</td>\n      <td>0.000000</td>\n      <td>711</td>\n    </tr>\n    <tr>\n      <th>2</th>\n      <td>2</td>\n      <td>http://mashable.com/2013/01/07/apple-40-billio...</td>\n      <td>7</td>\n      <td>187</td>\n      <td>0.631016</td>\n      <td>0.598930</td>\n      <td>84</td>\n      <td>126</td>\n      <td>3</td>\n      <td>0</td>\n      <td>...</td>\n      <td>1.0</td>\n      <td>0.0</td>\n      <td>0.301629</td>\n      <td>0.323333</td>\n      <td>0.0</td>\n      <td>1.0</td>\n      <td>0.000000</td>\n      <td>0.000000</td>\n      <td>0.000000</td>\n      <td>1500</td>\n    </tr>\n    <tr>\n      <th>3</th>\n      <td>3</td>\n      <td>http://mashable.com/2013/01/07/astronaut-notre...</td>\n      <td>8</td>\n      <td>449</td>\n      <td>0.521158</td>\n      <td>0.590200</td>\n      <td>188</td>\n      <td>127</td>\n      <td>4</td>\n      <td>0</td>\n      <td>...</td>\n      <td>1.0</td>\n      <td>0.0</td>\n      <td>0.116673</td>\n      <td>0.323333</td>\n      <td>0.0</td>\n      <td>1.0</td>\n      <td>0.000000</td>\n      <td>0.000000</td>\n      <td>0.000000</td>\n      <td>1200</td>\n    </tr>\n    <tr>\n      <th>4</th>\n      <td>4</td>\n      <td>http://mashable.com/2013/01/07/att-u-verse-apps/</td>\n      <td>11</td>\n      <td>281</td>\n      <td>0.551601</td>\n      <td>0.615658</td>\n      <td>123</td>\n      <td>124</td>\n      <td>3</td>\n      <td>0</td>\n      <td>...</td>\n      <td>1.0</td>\n      <td>0.0</td>\n      <td>0.178451</td>\n      <td>0.323333</td>\n      <td>0.0</td>\n      <td>1.0</td>\n      <td>0.454545</td>\n      <td>0.136364</td>\n      <td>0.136364</td>\n      <td>505</td>\n    </tr>\n  </tbody>\n</table>\n<p>5 rows × 33 columns</p>\n</div>"
     },
     "execution_count": 10,
     "metadata": {},
     "output_type": "execute_result"
    }
   ],
   "source": [
    "df.head()"
   ]
  },
  {
   "cell_type": "code",
   "execution_count": 11,
   "metadata": {
    "ExecuteTime": {
     "end_time": "2024-02-18T06:28:31.045850Z",
     "start_time": "2024-02-18T06:28:30.966954400Z"
    }
   },
   "outputs": [
    {
     "data": {
      "text/plain": "       n_tokens_title  n_tokens_content  n_unique_tokens  n_non_stop_words  \\\n0                  10               203         0.684729          0.600985   \n1                   7               239         0.623431          0.589958   \n2                   7               187         0.631016          0.598930   \n3                   8               449         0.521158          0.590200   \n4                  11               281         0.551601          0.615658   \n...               ...               ...              ...               ...   \n12595              10               273         0.560440          0.571429   \n12596              10               183         0.704918          0.606557   \n12597              10               338         0.606509          0.571006   \n12598              12               260         0.642308          0.638462   \n12599               7               629         0.524642          0.578696   \n\n       n_non_stop_unique_tokens  num_hrefs  num_imgs  num_videos  \\\n0                           102        128         3           0   \n1                           114        126         3           0   \n2                            84        126         3           0   \n3                           188        127         4           0   \n4                           123        124         3           0   \n...                         ...        ...       ...         ...   \n12595                       111        129         3           0   \n12596                        95        128         3           0   \n12597                       153        129         3           0   \n12598                       139        128         3           0   \n12599                       272        130         3           0   \n\n       average_token_length  weekday_is_monday  ...  rate_positive_words  \\\n0                  4.916256                  1  ...             1.000000   \n1                  5.138075                  1  ...             1.000000   \n2                  4.860963                  1  ...             1.000000   \n3                  4.565702                  1  ...             1.000000   \n4                  4.839858                  1  ...             1.000000   \n...                     ...                ...  ...                  ...   \n12595              4.974359                  0  ...             0.820513   \n12596              4.655738                  0  ...             0.846847   \n12597              4.914201                  0  ...             0.896373   \n12598              4.807692                  0  ...             0.843373   \n12599              4.947536                  0  ...             0.939560   \n\n       rate_negative_words  avg_positive_polarity  max_positive_polarity  \\\n0                 0.000000               0.092562               0.092562   \n1                 0.000000               0.144949               0.148948   \n2                 0.000000               0.301629               0.323333   \n3                 0.000000               0.116673               0.323333   \n4                 0.000000               0.178451               0.323333   \n...                    ...                    ...                    ...   \n12595             0.179487               0.166309               0.323333   \n12596             0.153153               0.148880               0.371667   \n12597             0.103627               0.144442               0.505093   \n12598             0.156627               0.142999               0.348405   \n12599             0.060440               0.155484               0.505093   \n\n       avg_negative_polarity  min_negative_polarity  title_subjectivity  \\\n0                   0.000000               1.000000            0.500000   \n1                   0.000000               1.000000            0.000000   \n2                   0.000000               1.000000            0.000000   \n3                   0.000000               1.000000            0.000000   \n4                   0.000000               1.000000            0.454545   \n...                      ...                    ...                 ...   \n12595               0.007892              -0.158333            0.000000   \n12596              -0.012720              -0.072619            0.000000   \n12597               0.004938              -0.092305            0.700000   \n12598              -0.009514              -0.092305            0.600000   \n12599              -0.011248              -0.092305            0.000000   \n\n       title_sentiment_polarity  abs_title_sentiment_polarity  shares  \n0                     -0.187500                      0.187500     593  \n1                      0.000000                      0.000000     711  \n2                      0.000000                      0.000000    1500  \n3                      0.000000                      0.000000    1200  \n4                      0.136364                      0.136364     505  \n...                         ...                           ...     ...  \n12595                  0.000000                      0.000000     678  \n12596                  0.000000                      0.000000    1300  \n12597                 -0.150000                      0.150000     999  \n12598                  0.000000                      0.000000    1600  \n12599                  0.000000                      0.000000    1700  \n\n[12600 rows x 31 columns]",
      "text/html": "<div>\n<style scoped>\n    .dataframe tbody tr th:only-of-type {\n        vertical-align: middle;\n    }\n\n    .dataframe tbody tr th {\n        vertical-align: top;\n    }\n\n    .dataframe thead th {\n        text-align: right;\n    }\n</style>\n<table border=\"1\" class=\"dataframe\">\n  <thead>\n    <tr style=\"text-align: right;\">\n      <th></th>\n      <th>n_tokens_title</th>\n      <th>n_tokens_content</th>\n      <th>n_unique_tokens</th>\n      <th>n_non_stop_words</th>\n      <th>n_non_stop_unique_tokens</th>\n      <th>num_hrefs</th>\n      <th>num_imgs</th>\n      <th>num_videos</th>\n      <th>average_token_length</th>\n      <th>weekday_is_monday</th>\n      <th>...</th>\n      <th>rate_positive_words</th>\n      <th>rate_negative_words</th>\n      <th>avg_positive_polarity</th>\n      <th>max_positive_polarity</th>\n      <th>avg_negative_polarity</th>\n      <th>min_negative_polarity</th>\n      <th>title_subjectivity</th>\n      <th>title_sentiment_polarity</th>\n      <th>abs_title_sentiment_polarity</th>\n      <th>shares</th>\n    </tr>\n  </thead>\n  <tbody>\n    <tr>\n      <th>0</th>\n      <td>10</td>\n      <td>203</td>\n      <td>0.684729</td>\n      <td>0.600985</td>\n      <td>102</td>\n      <td>128</td>\n      <td>3</td>\n      <td>0</td>\n      <td>4.916256</td>\n      <td>1</td>\n      <td>...</td>\n      <td>1.000000</td>\n      <td>0.000000</td>\n      <td>0.092562</td>\n      <td>0.092562</td>\n      <td>0.000000</td>\n      <td>1.000000</td>\n      <td>0.500000</td>\n      <td>-0.187500</td>\n      <td>0.187500</td>\n      <td>593</td>\n    </tr>\n    <tr>\n      <th>1</th>\n      <td>7</td>\n      <td>239</td>\n      <td>0.623431</td>\n      <td>0.589958</td>\n      <td>114</td>\n      <td>126</td>\n      <td>3</td>\n      <td>0</td>\n      <td>5.138075</td>\n      <td>1</td>\n      <td>...</td>\n      <td>1.000000</td>\n      <td>0.000000</td>\n      <td>0.144949</td>\n      <td>0.148948</td>\n      <td>0.000000</td>\n      <td>1.000000</td>\n      <td>0.000000</td>\n      <td>0.000000</td>\n      <td>0.000000</td>\n      <td>711</td>\n    </tr>\n    <tr>\n      <th>2</th>\n      <td>7</td>\n      <td>187</td>\n      <td>0.631016</td>\n      <td>0.598930</td>\n      <td>84</td>\n      <td>126</td>\n      <td>3</td>\n      <td>0</td>\n      <td>4.860963</td>\n      <td>1</td>\n      <td>...</td>\n      <td>1.000000</td>\n      <td>0.000000</td>\n      <td>0.301629</td>\n      <td>0.323333</td>\n      <td>0.000000</td>\n      <td>1.000000</td>\n      <td>0.000000</td>\n      <td>0.000000</td>\n      <td>0.000000</td>\n      <td>1500</td>\n    </tr>\n    <tr>\n      <th>3</th>\n      <td>8</td>\n      <td>449</td>\n      <td>0.521158</td>\n      <td>0.590200</td>\n      <td>188</td>\n      <td>127</td>\n      <td>4</td>\n      <td>0</td>\n      <td>4.565702</td>\n      <td>1</td>\n      <td>...</td>\n      <td>1.000000</td>\n      <td>0.000000</td>\n      <td>0.116673</td>\n      <td>0.323333</td>\n      <td>0.000000</td>\n      <td>1.000000</td>\n      <td>0.000000</td>\n      <td>0.000000</td>\n      <td>0.000000</td>\n      <td>1200</td>\n    </tr>\n    <tr>\n      <th>4</th>\n      <td>11</td>\n      <td>281</td>\n      <td>0.551601</td>\n      <td>0.615658</td>\n      <td>123</td>\n      <td>124</td>\n      <td>3</td>\n      <td>0</td>\n      <td>4.839858</td>\n      <td>1</td>\n      <td>...</td>\n      <td>1.000000</td>\n      <td>0.000000</td>\n      <td>0.178451</td>\n      <td>0.323333</td>\n      <td>0.000000</td>\n      <td>1.000000</td>\n      <td>0.454545</td>\n      <td>0.136364</td>\n      <td>0.136364</td>\n      <td>505</td>\n    </tr>\n    <tr>\n      <th>...</th>\n      <td>...</td>\n      <td>...</td>\n      <td>...</td>\n      <td>...</td>\n      <td>...</td>\n      <td>...</td>\n      <td>...</td>\n      <td>...</td>\n      <td>...</td>\n      <td>...</td>\n      <td>...</td>\n      <td>...</td>\n      <td>...</td>\n      <td>...</td>\n      <td>...</td>\n      <td>...</td>\n      <td>...</td>\n      <td>...</td>\n      <td>...</td>\n      <td>...</td>\n      <td>...</td>\n    </tr>\n    <tr>\n      <th>12595</th>\n      <td>10</td>\n      <td>273</td>\n      <td>0.560440</td>\n      <td>0.571429</td>\n      <td>111</td>\n      <td>129</td>\n      <td>3</td>\n      <td>0</td>\n      <td>4.974359</td>\n      <td>0</td>\n      <td>...</td>\n      <td>0.820513</td>\n      <td>0.179487</td>\n      <td>0.166309</td>\n      <td>0.323333</td>\n      <td>0.007892</td>\n      <td>-0.158333</td>\n      <td>0.000000</td>\n      <td>0.000000</td>\n      <td>0.000000</td>\n      <td>678</td>\n    </tr>\n    <tr>\n      <th>12596</th>\n      <td>10</td>\n      <td>183</td>\n      <td>0.704918</td>\n      <td>0.606557</td>\n      <td>95</td>\n      <td>128</td>\n      <td>3</td>\n      <td>0</td>\n      <td>4.655738</td>\n      <td>0</td>\n      <td>...</td>\n      <td>0.846847</td>\n      <td>0.153153</td>\n      <td>0.148880</td>\n      <td>0.371667</td>\n      <td>-0.012720</td>\n      <td>-0.072619</td>\n      <td>0.000000</td>\n      <td>0.000000</td>\n      <td>0.000000</td>\n      <td>1300</td>\n    </tr>\n    <tr>\n      <th>12597</th>\n      <td>10</td>\n      <td>338</td>\n      <td>0.606509</td>\n      <td>0.571006</td>\n      <td>153</td>\n      <td>129</td>\n      <td>3</td>\n      <td>0</td>\n      <td>4.914201</td>\n      <td>0</td>\n      <td>...</td>\n      <td>0.896373</td>\n      <td>0.103627</td>\n      <td>0.144442</td>\n      <td>0.505093</td>\n      <td>0.004938</td>\n      <td>-0.092305</td>\n      <td>0.700000</td>\n      <td>-0.150000</td>\n      <td>0.150000</td>\n      <td>999</td>\n    </tr>\n    <tr>\n      <th>12598</th>\n      <td>12</td>\n      <td>260</td>\n      <td>0.642308</td>\n      <td>0.638462</td>\n      <td>139</td>\n      <td>128</td>\n      <td>3</td>\n      <td>0</td>\n      <td>4.807692</td>\n      <td>0</td>\n      <td>...</td>\n      <td>0.843373</td>\n      <td>0.156627</td>\n      <td>0.142999</td>\n      <td>0.348405</td>\n      <td>-0.009514</td>\n      <td>-0.092305</td>\n      <td>0.600000</td>\n      <td>0.000000</td>\n      <td>0.000000</td>\n      <td>1600</td>\n    </tr>\n    <tr>\n      <th>12599</th>\n      <td>7</td>\n      <td>629</td>\n      <td>0.524642</td>\n      <td>0.578696</td>\n      <td>272</td>\n      <td>130</td>\n      <td>3</td>\n      <td>0</td>\n      <td>4.947536</td>\n      <td>0</td>\n      <td>...</td>\n      <td>0.939560</td>\n      <td>0.060440</td>\n      <td>0.155484</td>\n      <td>0.505093</td>\n      <td>-0.011248</td>\n      <td>-0.092305</td>\n      <td>0.000000</td>\n      <td>0.000000</td>\n      <td>0.000000</td>\n      <td>1700</td>\n    </tr>\n  </tbody>\n</table>\n<p>12600 rows × 31 columns</p>\n</div>"
     },
     "execution_count": 11,
     "metadata": {},
     "output_type": "execute_result"
    }
   ],
   "source": [
    "df = df.drop('url', axis=1)\n",
    "df = df.drop('Unnamed: 0', axis=1)\n",
    "df"
   ]
  },
  {
   "cell_type": "code",
   "execution_count": 12,
   "metadata": {
    "ExecuteTime": {
     "end_time": "2024-02-18T06:28:31.089760100Z",
     "start_time": "2024-02-18T06:28:30.991767700Z"
    }
   },
   "outputs": [
    {
     "data": {
      "text/plain": "n_tokens_title                     8.257698\nn_tokens_content                 346.273810\nn_unique_tokens                    0.636612\nn_non_stop_words                   0.600843\nn_non_stop_unique_tokens         152.357619\nnum_hrefs                        130.491429\nnum_imgs                           3.843016\nnum_videos                         0.000000\naverage_token_length               4.987892\nweekday_is_monday                  0.157857\nweekday_is_tuesday                 0.176429\nweekday_is_wednesday               0.198730\nweekday_is_thursday                0.186825\nweekday_is_friday                  0.147698\nweekday_is_saturday                0.069206\nweekday_is_sunday                  0.063254\nis_weekend                         0.132460\nglobal_subjectivity                0.456743\nglobal_sentiment_polarity          0.135649\nglobal_rate_positive_words         0.890101\nglobal_rate_negative_words         0.109684\nrate_positive_words                0.890290\nrate_negative_words                0.109710\navg_positive_polarity              0.152112\nmax_positive_polarity              0.382961\navg_negative_polarity             -0.002999\nmin_negative_polarity             -0.096865\ntitle_subjectivity                 0.262353\ntitle_sentiment_polarity           0.076834\nabs_title_sentiment_polarity       0.149825\nshares                          3250.644286\ndtype: float64"
     },
     "execution_count": 12,
     "metadata": {},
     "output_type": "execute_result"
    }
   ],
   "source": [
    "df.mean(axis=0)"
   ]
  },
  {
   "cell_type": "code",
   "execution_count": 13,
   "metadata": {
    "ExecuteTime": {
     "end_time": "2024-02-18T06:28:31.090792200Z",
     "start_time": "2024-02-18T06:28:31.020577300Z"
    }
   },
   "outputs": [
    {
     "data": {
      "text/plain": "   n_tokens_title  n_tokens_content  n_unique_tokens  n_non_stop_words  \\\n0        0.947707         -0.439662         0.428161          0.002998   \n1       -0.684112         -0.329189        -0.117285         -0.230132   \n2       -0.684112         -0.488761        -0.049791         -0.040442   \n3       -0.140172          0.315234        -1.027334         -0.225009   \n4        1.491646         -0.200305        -0.756442          0.313212   \n\n   n_non_stop_unique_tokens  num_hrefs  num_imgs  num_videos  \\\n0                 -0.418972  -0.324104 -0.313340         0.0   \n1                 -0.319133  -0.584280 -0.313340         0.0   \n2                 -0.568731  -0.584280 -0.313340         0.0   \n3                  0.296542  -0.454192  0.058349         0.0   \n4                 -0.244254  -0.844455 -0.313340         0.0   \n\n   average_token_length  weekday_is_monday  ...  rate_positive_words  \\\n0             -0.186062                  1  ...               1.6741   \n1              0.390074                  1  ...               1.6741   \n2             -0.329677                  1  ...               1.6741   \n3             -1.096564                  1  ...               1.6741   \n4             -0.384493                  1  ...               1.6741   \n\n   rate_negative_words  avg_positive_polarity  max_positive_polarity  \\\n0              -1.6741              -3.531853              -3.280911   \n1              -1.6741              -0.424823              -2.643867   \n2              -1.6741               8.867751              -0.673668   \n3              -1.6741              -2.101861              -0.673668   \n4              -1.6741               1.562192              -0.673668   \n\n   avg_negative_polarity  min_negative_polarity  title_subjectivity  \\\n0               0.121589               9.744565            0.730842   \n1               0.121589               9.744565           -0.806824   \n2               0.121589               9.744565           -0.806824   \n3               0.121589               9.744565           -0.806824   \n4               0.121589               9.744565            0.591055   \n\n   title_sentiment_polarity  abs_title_sentiment_polarity    shares  \n0                 -1.002120                      0.163599 -0.199784  \n1                 -0.291287                     -0.650595 -0.190914  \n2                 -0.291287                     -0.650595 -0.131602  \n3                 -0.291287                     -0.650595 -0.154154  \n4                  0.225684                     -0.058454 -0.206400  \n\n[5 rows x 31 columns]",
      "text/html": "<div>\n<style scoped>\n    .dataframe tbody tr th:only-of-type {\n        vertical-align: middle;\n    }\n\n    .dataframe tbody tr th {\n        vertical-align: top;\n    }\n\n    .dataframe thead th {\n        text-align: right;\n    }\n</style>\n<table border=\"1\" class=\"dataframe\">\n  <thead>\n    <tr style=\"text-align: right;\">\n      <th></th>\n      <th>n_tokens_title</th>\n      <th>n_tokens_content</th>\n      <th>n_unique_tokens</th>\n      <th>n_non_stop_words</th>\n      <th>n_non_stop_unique_tokens</th>\n      <th>num_hrefs</th>\n      <th>num_imgs</th>\n      <th>num_videos</th>\n      <th>average_token_length</th>\n      <th>weekday_is_monday</th>\n      <th>...</th>\n      <th>rate_positive_words</th>\n      <th>rate_negative_words</th>\n      <th>avg_positive_polarity</th>\n      <th>max_positive_polarity</th>\n      <th>avg_negative_polarity</th>\n      <th>min_negative_polarity</th>\n      <th>title_subjectivity</th>\n      <th>title_sentiment_polarity</th>\n      <th>abs_title_sentiment_polarity</th>\n      <th>shares</th>\n    </tr>\n  </thead>\n  <tbody>\n    <tr>\n      <th>0</th>\n      <td>0.947707</td>\n      <td>-0.439662</td>\n      <td>0.428161</td>\n      <td>0.002998</td>\n      <td>-0.418972</td>\n      <td>-0.324104</td>\n      <td>-0.313340</td>\n      <td>0.0</td>\n      <td>-0.186062</td>\n      <td>1</td>\n      <td>...</td>\n      <td>1.6741</td>\n      <td>-1.6741</td>\n      <td>-3.531853</td>\n      <td>-3.280911</td>\n      <td>0.121589</td>\n      <td>9.744565</td>\n      <td>0.730842</td>\n      <td>-1.002120</td>\n      <td>0.163599</td>\n      <td>-0.199784</td>\n    </tr>\n    <tr>\n      <th>1</th>\n      <td>-0.684112</td>\n      <td>-0.329189</td>\n      <td>-0.117285</td>\n      <td>-0.230132</td>\n      <td>-0.319133</td>\n      <td>-0.584280</td>\n      <td>-0.313340</td>\n      <td>0.0</td>\n      <td>0.390074</td>\n      <td>1</td>\n      <td>...</td>\n      <td>1.6741</td>\n      <td>-1.6741</td>\n      <td>-0.424823</td>\n      <td>-2.643867</td>\n      <td>0.121589</td>\n      <td>9.744565</td>\n      <td>-0.806824</td>\n      <td>-0.291287</td>\n      <td>-0.650595</td>\n      <td>-0.190914</td>\n    </tr>\n    <tr>\n      <th>2</th>\n      <td>-0.684112</td>\n      <td>-0.488761</td>\n      <td>-0.049791</td>\n      <td>-0.040442</td>\n      <td>-0.568731</td>\n      <td>-0.584280</td>\n      <td>-0.313340</td>\n      <td>0.0</td>\n      <td>-0.329677</td>\n      <td>1</td>\n      <td>...</td>\n      <td>1.6741</td>\n      <td>-1.6741</td>\n      <td>8.867751</td>\n      <td>-0.673668</td>\n      <td>0.121589</td>\n      <td>9.744565</td>\n      <td>-0.806824</td>\n      <td>-0.291287</td>\n      <td>-0.650595</td>\n      <td>-0.131602</td>\n    </tr>\n    <tr>\n      <th>3</th>\n      <td>-0.140172</td>\n      <td>0.315234</td>\n      <td>-1.027334</td>\n      <td>-0.225009</td>\n      <td>0.296542</td>\n      <td>-0.454192</td>\n      <td>0.058349</td>\n      <td>0.0</td>\n      <td>-1.096564</td>\n      <td>1</td>\n      <td>...</td>\n      <td>1.6741</td>\n      <td>-1.6741</td>\n      <td>-2.101861</td>\n      <td>-0.673668</td>\n      <td>0.121589</td>\n      <td>9.744565</td>\n      <td>-0.806824</td>\n      <td>-0.291287</td>\n      <td>-0.650595</td>\n      <td>-0.154154</td>\n    </tr>\n    <tr>\n      <th>4</th>\n      <td>1.491646</td>\n      <td>-0.200305</td>\n      <td>-0.756442</td>\n      <td>0.313212</td>\n      <td>-0.244254</td>\n      <td>-0.844455</td>\n      <td>-0.313340</td>\n      <td>0.0</td>\n      <td>-0.384493</td>\n      <td>1</td>\n      <td>...</td>\n      <td>1.6741</td>\n      <td>-1.6741</td>\n      <td>1.562192</td>\n      <td>-0.673668</td>\n      <td>0.121589</td>\n      <td>9.744565</td>\n      <td>0.591055</td>\n      <td>0.225684</td>\n      <td>-0.058454</td>\n      <td>-0.206400</td>\n    </tr>\n  </tbody>\n</table>\n<p>5 rows × 31 columns</p>\n</div>"
     },
     "execution_count": 13,
     "metadata": {},
     "output_type": "execute_result"
    }
   ],
   "source": [
    "scaler = StandardScaler()\n",
    "\n",
    "non_scaled = [\"weekday_is_monday\", \"weekday_is_tuesday\", \"weekday_is_wednesday\", \"weekday_is_thursday\", \"weekday_is_friday\", \"weekday_is_saturday\", \"weekday_is_sunday\", \"is_weekend\"]\n",
    "\n",
    "feature_cols = [col for col in df.columns if col not in non_scaled]\n",
    "\n",
    "scaler.fit(df[feature_cols])\n",
    "df[feature_cols] = scaler.transform(df[feature_cols])\n",
    "df.head()"
   ]
  },
  {
   "cell_type": "code",
   "execution_count": 14,
   "metadata": {
    "ExecuteTime": {
     "end_time": "2024-02-18T06:28:31.090792200Z",
     "start_time": "2024-02-18T06:28:31.032250700Z"
    }
   },
   "outputs": [
    {
     "data": {
      "text/plain": "n_tokens_title                  4.522661e-16\nn_tokens_content                1.353415e-17\nn_unique_tokens                 1.285744e-16\nn_non_stop_words               -1.231607e-15\nn_non_stop_unique_tokens        6.767074e-17\nnum_hrefs                       4.060244e-17\nnum_imgs                       -7.669350e-17\nnum_videos                      0.000000e+00\naverage_token_length            1.100777e-15\nweekday_is_monday               1.578571e-01\nweekday_is_tuesday              1.764286e-01\nweekday_is_wednesday            1.987302e-01\nweekday_is_thursday             1.868254e-01\nweekday_is_friday               1.476984e-01\nweekday_is_saturday             6.920635e-02\nweekday_is_sunday               6.325397e-02\nis_weekend                      1.324603e-01\nglobal_subjectivity            -7.240769e-16\nglobal_sentiment_polarity       1.189877e-16\nglobal_rate_positive_words     -1.386686e-15\nglobal_rate_negative_words     -2.199299e-16\nrate_positive_words            -1.047769e-15\nrate_negative_words             8.007704e-17\navg_positive_polarity           1.218073e-16\nmax_positive_polarity           2.932399e-16\navg_negative_polarity           2.819614e-18\nmin_negative_polarity          -1.985008e-16\ntitle_subjectivity             -3.383537e-17\ntitle_sentiment_polarity        4.511382e-18\nabs_title_sentiment_polarity    2.481260e-17\nshares                          7.894919e-18\ndtype: float64"
     },
     "execution_count": 14,
     "metadata": {},
     "output_type": "execute_result"
    }
   ],
   "source": [
    "df.mean(axis=0)"
   ]
  },
  {
   "cell_type": "code",
   "execution_count": 15,
   "metadata": {
    "ExecuteTime": {
     "end_time": "2024-02-18T06:28:31.090792200Z",
     "start_time": "2024-02-18T06:28:31.041847300Z"
    }
   },
   "outputs": [
    {
     "data": {
      "text/plain": "   n_tokens_title  n_tokens_content  n_unique_tokens  n_non_stop_words  \\\n0        0.947707         -0.439662         0.428161          0.002998   \n1       -0.684112         -0.329189        -0.117285         -0.230132   \n2       -0.684112         -0.488761        -0.049791         -0.040442   \n3       -0.140172          0.315234        -1.027334         -0.225009   \n4        1.491646         -0.200305        -0.756442          0.313212   \n\n   n_non_stop_unique_tokens  num_hrefs  num_imgs  num_videos  \\\n0                 -0.418972  -0.324104 -0.313340         0.0   \n1                 -0.319133  -0.584280 -0.313340         0.0   \n2                 -0.568731  -0.584280 -0.313340         0.0   \n3                  0.296542  -0.454192  0.058349         0.0   \n4                 -0.244254  -0.844455 -0.313340         0.0   \n\n   average_token_length  weekday_is_monday  ...  rate_positive_words  \\\n0             -0.186062                  1  ...               1.6741   \n1              0.390074                  1  ...               1.6741   \n2             -0.329677                  1  ...               1.6741   \n3             -1.096564                  1  ...               1.6741   \n4             -0.384493                  1  ...               1.6741   \n\n   rate_negative_words  avg_positive_polarity  max_positive_polarity  \\\n0              -1.6741              -3.531853              -3.280911   \n1              -1.6741              -0.424823              -2.643867   \n2              -1.6741               8.867751              -0.673668   \n3              -1.6741              -2.101861              -0.673668   \n4              -1.6741               1.562192              -0.673668   \n\n   avg_negative_polarity  min_negative_polarity  title_subjectivity  \\\n0               0.121589               9.744565            0.730842   \n1               0.121589               9.744565           -0.806824   \n2               0.121589               9.744565           -0.806824   \n3               0.121589               9.744565           -0.806824   \n4               0.121589               9.744565            0.591055   \n\n   title_sentiment_polarity  abs_title_sentiment_polarity    shares  \n0                 -1.002120                      0.163599 -0.199784  \n1                 -0.291287                     -0.650595 -0.190914  \n2                 -0.291287                     -0.650595 -0.131602  \n3                 -0.291287                     -0.650595 -0.154154  \n4                  0.225684                     -0.058454 -0.206400  \n\n[5 rows x 31 columns]",
      "text/html": "<div>\n<style scoped>\n    .dataframe tbody tr th:only-of-type {\n        vertical-align: middle;\n    }\n\n    .dataframe tbody tr th {\n        vertical-align: top;\n    }\n\n    .dataframe thead th {\n        text-align: right;\n    }\n</style>\n<table border=\"1\" class=\"dataframe\">\n  <thead>\n    <tr style=\"text-align: right;\">\n      <th></th>\n      <th>n_tokens_title</th>\n      <th>n_tokens_content</th>\n      <th>n_unique_tokens</th>\n      <th>n_non_stop_words</th>\n      <th>n_non_stop_unique_tokens</th>\n      <th>num_hrefs</th>\n      <th>num_imgs</th>\n      <th>num_videos</th>\n      <th>average_token_length</th>\n      <th>weekday_is_monday</th>\n      <th>...</th>\n      <th>rate_positive_words</th>\n      <th>rate_negative_words</th>\n      <th>avg_positive_polarity</th>\n      <th>max_positive_polarity</th>\n      <th>avg_negative_polarity</th>\n      <th>min_negative_polarity</th>\n      <th>title_subjectivity</th>\n      <th>title_sentiment_polarity</th>\n      <th>abs_title_sentiment_polarity</th>\n      <th>shares</th>\n    </tr>\n  </thead>\n  <tbody>\n    <tr>\n      <th>0</th>\n      <td>0.947707</td>\n      <td>-0.439662</td>\n      <td>0.428161</td>\n      <td>0.002998</td>\n      <td>-0.418972</td>\n      <td>-0.324104</td>\n      <td>-0.313340</td>\n      <td>0.0</td>\n      <td>-0.186062</td>\n      <td>1</td>\n      <td>...</td>\n      <td>1.6741</td>\n      <td>-1.6741</td>\n      <td>-3.531853</td>\n      <td>-3.280911</td>\n      <td>0.121589</td>\n      <td>9.744565</td>\n      <td>0.730842</td>\n      <td>-1.002120</td>\n      <td>0.163599</td>\n      <td>-0.199784</td>\n    </tr>\n    <tr>\n      <th>1</th>\n      <td>-0.684112</td>\n      <td>-0.329189</td>\n      <td>-0.117285</td>\n      <td>-0.230132</td>\n      <td>-0.319133</td>\n      <td>-0.584280</td>\n      <td>-0.313340</td>\n      <td>0.0</td>\n      <td>0.390074</td>\n      <td>1</td>\n      <td>...</td>\n      <td>1.6741</td>\n      <td>-1.6741</td>\n      <td>-0.424823</td>\n      <td>-2.643867</td>\n      <td>0.121589</td>\n      <td>9.744565</td>\n      <td>-0.806824</td>\n      <td>-0.291287</td>\n      <td>-0.650595</td>\n      <td>-0.190914</td>\n    </tr>\n    <tr>\n      <th>2</th>\n      <td>-0.684112</td>\n      <td>-0.488761</td>\n      <td>-0.049791</td>\n      <td>-0.040442</td>\n      <td>-0.568731</td>\n      <td>-0.584280</td>\n      <td>-0.313340</td>\n      <td>0.0</td>\n      <td>-0.329677</td>\n      <td>1</td>\n      <td>...</td>\n      <td>1.6741</td>\n      <td>-1.6741</td>\n      <td>8.867751</td>\n      <td>-0.673668</td>\n      <td>0.121589</td>\n      <td>9.744565</td>\n      <td>-0.806824</td>\n      <td>-0.291287</td>\n      <td>-0.650595</td>\n      <td>-0.131602</td>\n    </tr>\n    <tr>\n      <th>3</th>\n      <td>-0.140172</td>\n      <td>0.315234</td>\n      <td>-1.027334</td>\n      <td>-0.225009</td>\n      <td>0.296542</td>\n      <td>-0.454192</td>\n      <td>0.058349</td>\n      <td>0.0</td>\n      <td>-1.096564</td>\n      <td>1</td>\n      <td>...</td>\n      <td>1.6741</td>\n      <td>-1.6741</td>\n      <td>-2.101861</td>\n      <td>-0.673668</td>\n      <td>0.121589</td>\n      <td>9.744565</td>\n      <td>-0.806824</td>\n      <td>-0.291287</td>\n      <td>-0.650595</td>\n      <td>-0.154154</td>\n    </tr>\n    <tr>\n      <th>4</th>\n      <td>1.491646</td>\n      <td>-0.200305</td>\n      <td>-0.756442</td>\n      <td>0.313212</td>\n      <td>-0.244254</td>\n      <td>-0.844455</td>\n      <td>-0.313340</td>\n      <td>0.0</td>\n      <td>-0.384493</td>\n      <td>1</td>\n      <td>...</td>\n      <td>1.6741</td>\n      <td>-1.6741</td>\n      <td>1.562192</td>\n      <td>-0.673668</td>\n      <td>0.121589</td>\n      <td>9.744565</td>\n      <td>0.591055</td>\n      <td>0.225684</td>\n      <td>-0.058454</td>\n      <td>-0.206400</td>\n    </tr>\n  </tbody>\n</table>\n<p>5 rows × 31 columns</p>\n</div>"
     },
     "execution_count": 15,
     "metadata": {},
     "output_type": "execute_result"
    }
   ],
   "source": [
    "df.head()"
   ]
  },
  {
   "cell_type": "code",
   "execution_count": 16,
   "metadata": {
    "ExecuteTime": {
     "end_time": "2024-02-18T06:28:31.394195600Z",
     "start_time": "2024-02-18T06:28:31.061764800Z"
    }
   },
   "outputs": [],
   "source": [
    "df.to_csv('cleaned_extracted_data.csv')"
   ]
  },
  {
   "cell_type": "code",
   "execution_count": 16,
   "outputs": [],
   "source": [],
   "metadata": {
    "collapsed": false,
    "ExecuteTime": {
     "end_time": "2024-02-18T06:28:31.398185800Z",
     "start_time": "2024-02-18T06:28:31.395185900Z"
    }
   }
  }
 ],
 "metadata": {
  "kernelspec": {
   "display_name": "Python 3",
   "language": "python",
   "name": "python3"
  },
  "language_info": {
   "codemirror_mode": {
    "name": "ipython",
    "version": 3
   },
   "file_extension": ".py",
   "mimetype": "text/x-python",
   "name": "python",
   "nbconvert_exporter": "python",
   "pygments_lexer": "ipython3",
   "version": "3.9.6"
  }
 },
 "nbformat": 4,
 "nbformat_minor": 2
}
