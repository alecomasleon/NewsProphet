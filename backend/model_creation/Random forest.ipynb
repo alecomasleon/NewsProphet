{
 "cells": [
  {
   "cell_type": "code",
   "execution_count": 14,
   "metadata": {
    "collapsed": true,
    "ExecuteTime": {
     "end_time": "2024-02-17T22:31:42.693139Z",
     "start_time": "2024-02-17T22:31:42.684130100Z"
    }
   },
   "outputs": [],
   "source": [
    "from sklearn.model_selection import train_test_split\n",
    "from sklearn.ensemble import RandomForestRegressor"
   ]
  },
  {
   "cell_type": "code",
   "execution_count": 15,
   "outputs": [
    {
     "name": "stdout",
     "output_type": "stream",
     "text": [
      "<class 'pandas.core.frame.DataFrame'>\n",
      "<class 'numpy.ndarray'>\n",
      "<class 'pandas.core.frame.DataFrame'>\n",
      "<class 'numpy.ndarray'>\n",
      "(19821, 58)\n",
      "(11894, 58)\n",
      "(7929, 58)\n",
      "targets: [[-0.14581653]\n",
      " [-0.15441734]\n",
      " [ 0.11220795]\n",
      " ...\n",
      " [ 0.09500632]\n",
      " [-0.25023043]\n",
      " [-0.1888206 ]]\n",
      "data: [[-1.60772590e+00 -4.74451259e-01  1.78983723e-03 ...  5.47157435e-01\n",
      "  -1.19274310e+00  2.67809642e-01]\n",
      " [ 1.23048186e+00  9.19437671e+00 -7.39034343e-02 ...  2.44637285e-01\n",
      "  -1.56994907e+00 -8.70560322e-02]\n",
      " [ 7.57447233e-01 -3.51335557e-01  3.25676620e-03 ...  1.23781665e+00\n",
      "  -2.21638357e-01  1.07797467e+00]\n",
      " ...\n",
      " [ 1.23048186e+00 -7.27050716e-01  2.79063632e-02 ...  1.23781665e+00\n",
      "  -2.21638357e-01  1.07797467e+00]\n",
      " [ 2.84412606e-01  3.28703405e-02 -9.31336282e-03 ... -3.05226384e-01\n",
      "  -1.13121305e+00 -6.47252789e-01]\n",
      " [-1.88622020e-01 -6.59124812e-01  1.32395104e-02 ... -2.69076177e-01\n",
      "   8.37748634e-01 -6.89658121e-01]]\n",
      "<class 'pandas.core.frame.DataFrame'>\n",
      "<class 'numpy.ndarray'>\n",
      "<class 'pandas.core.frame.DataFrame'>\n",
      "<class 'numpy.ndarray'>\n"
     ]
    }
   ],
   "source": [
    "# get data\n",
    "%run preprocess.ipynb\n",
    "X_train, y_train, X_val, y_val, X_test, y_test = get_processed_data()"
   ],
   "metadata": {
    "collapsed": false,
    "ExecuteTime": {
     "end_time": "2024-02-17T22:32:01.338830400Z",
     "start_time": "2024-02-17T22:31:42.692140800Z"
    }
   }
  },
  {
   "cell_type": "code",
   "execution_count": 16,
   "outputs": [
    {
     "name": "stdout",
     "output_type": "stream",
     "text": [
      "{'uci_id': 332, 'name': 'Online News Popularity', 'repository_url': 'https://archive.ics.uci.edu/dataset/332/online+news+popularity', 'data_url': 'https://archive.ics.uci.edu/static/public/332/data.csv', 'abstract': 'This dataset summarizes a heterogeneous set of features about articles published by Mashable in a period of two years. The goal is to predict the number of shares in social networks (popularity).', 'area': 'Business', 'tasks': ['Classification', 'Regression'], 'characteristics': ['Multivariate'], 'num_instances': 39797, 'num_features': 58, 'feature_types': ['Integer', 'Real'], 'demographics': [], 'target_col': [' shares'], 'index_col': ['url'], 'has_missing_values': 'no', 'missing_values_symbol': None, 'year_of_dataset_creation': 2015, 'last_updated': 'Thu Feb 15 2024', 'dataset_doi': '10.24432/C5NS3V', 'creators': ['Kelwin Fernandes', 'Pedro Vinagre', 'Paulo Cortez', 'Pedro Sernadela'], 'intro_paper': {'title': 'A Proactive Intelligent Decision Support System for Predicting the Popularity of Online News', 'authors': 'Kelwin Fernandes, Pedro Vinagre, P. Cortez', 'published_in': 'Portuguese Conference on Artificial Intelligence', 'year': 2015, 'url': 'https://www.semanticscholar.org/paper/A-Proactive-Intelligent-Decision-Support-System-for-Fernandes-Vinagre/ad7f3da7a5d6a1e18cc5a176f18f52687b912fea', 'doi': None}, 'additional_info': {'summary': '* The articles were published by Mashable (www.mashable.com) and their content as the rights to reproduce it belongs to them. Hence, this dataset does not share the original content but some statistics associated with it. The original content be publicly accessed and retrieved using the provided urls.\\r\\n* Acquisition date: January 8, 2015\\r\\n* The estimated relative performance values were estimated by the authors using a Random Forest classifier and a rolling windows as assessment method.  See their article for more details on how the relative performance values were set.', 'purpose': None, 'funded_by': None, 'instances_represent': None, 'recommended_data_splits': None, 'sensitive_data': None, 'preprocessing_description': None, 'variable_info': \"Number of Attributes: 61 (58 predictive attributes, 2 non-predictive, 1 goal field)\\r\\n\\r\\nAttribute Information:\\r\\n     0. url:                           URL of the article (non-predictive)\\r\\n     1. timedelta:                     Days between the article publication and the dataset acquisition (non-predictive)\\r\\n     2. n_tokens_title:                Number of words in the title\\r\\n     3. n_tokens_content:              Number of words in the content\\r\\n     4. n_unique_tokens:               Rate of unique words in the content\\r\\n     5. n_non_stop_words:              Rate of non-stop words in the content\\r\\n     6. n_non_stop_unique_tokens:      Rate of unique non-stop words in the content\\r\\n     7. num_hrefs:                     Number of links\\r\\n     8. num_self_hrefs:                Number of links to other articles published by Mashable\\r\\n     9. num_imgs:                      Number of images\\r\\n    10. num_videos:                    Number of videos\\r\\n    11. average_token_length:          Average length of the words in the content\\r\\n    12. num_keywords:                  Number of keywords in the metadata\\r\\n    13. data_channel_is_lifestyle:     Is data channel 'Lifestyle'?\\r\\n    14. data_channel_is_entertainment: Is data channel 'Entertainment'?\\r\\n    15. data_channel_is_bus:           Is data channel 'Business'?\\r\\n    16. data_channel_is_socmed:        Is data channel 'Social Media'?\\r\\n    17. data_channel_is_tech:          Is data channel 'Tech'?\\r\\n    18. data_channel_is_world:         Is data channel 'World'?\\r\\n    19. kw_min_min:                    Worst keyword (min. shares)\\r\\n    20. kw_max_min:                    Worst keyword (max. shares)\\r\\n    21. kw_avg_min:                    Worst keyword (avg. shares)\\r\\n    22. kw_min_max:                    Best keyword (min. shares)\\r\\n    23. kw_max_max:                    Best keyword (max. shares)\\r\\n    24. kw_avg_max:                    Best keyword (avg. shares)\\r\\n    25. kw_min_avg:                    Avg. keyword (min. shares)\\r\\n    26. kw_max_avg:                    Avg. keyword (max. shares)\\r\\n    27. kw_avg_avg:                    Avg. keyword (avg. shares)\\r\\n    28. self_reference_min_shares:     Min. shares of referenced articles in Mashable\\r\\n    29. self_reference_max_shares:     Max. shares of referenced articles in Mashable\\r\\n    30. self_reference_avg_sharess:    Avg. shares of referenced articles in Mashable\\r\\n    31. weekday_is_monday:             Was the article published on a Monday?\\r\\n    32. weekday_is_tuesday:            Was the article published on a Tuesday?\\r\\n    33. weekday_is_wednesday:          Was the article published on a Wednesday?\\r\\n    34. weekday_is_thursday:           Was the article published on a Thursday?\\r\\n    35. weekday_is_friday:             Was the article published on a Friday?\\r\\n    36. weekday_is_saturday:           Was the article published on a Saturday?\\r\\n    37. weekday_is_sunday:             Was the article published on a Sunday?\\r\\n    38. is_weekend:                    Was the article published on the weekend?\\r\\n    39. LDA_00:                        Closeness to LDA topic 0\\r\\n    40. LDA_01:                        Closeness to LDA topic 1\\r\\n    41. LDA_02:                        Closeness to LDA topic 2\\r\\n    42. LDA_03:                        Closeness to LDA topic 3\\r\\n    43. LDA_04:                        Closeness to LDA topic 4\\r\\n    44. global_subjectivity:           Text subjectivity\\r\\n    45. global_sentiment_polarity:     Text sentiment polarity\\r\\n    46. global_rate_positive_words:    Rate of positive words in the content\\r\\n    47. global_rate_negative_words:    Rate of negative words in the content\\r\\n    48. rate_positive_words:           Rate of positive words among non-neutral tokens\\r\\n    49. rate_negative_words:           Rate of negative words among non-neutral tokens\\r\\n    50. avg_positive_polarity:         Avg. polarity of positive words\\r\\n    51. min_positive_polarity:         Min. polarity of positive words\\r\\n    52. max_positive_polarity:         Max. polarity of positive words\\r\\n    53. avg_negative_polarity:         Avg. polarity of negative  words\\r\\n    54. min_negative_polarity:         Min. polarity of negative  words\\r\\n    55. max_negative_polarity:         Max. polarity of negative  words\\r\\n    56. title_subjectivity:            Title subjectivity\\r\\n    57. title_sentiment_polarity:      Title polarity\\r\\n    58. abs_title_subjectivity:        Absolute subjectivity level\\r\\n    59. abs_title_sentiment_polarity:  Absolute polarity level\\r\\n    60. shares:                        Number of shares (target)\", 'citation': None}}\n",
      "                             name     role         type demographic  \\\n",
      "0                             url       ID  Categorical        None   \n",
      "1                       timedelta    Other   Continuous        None   \n",
      "2                  n_tokens_title  Feature   Continuous        None   \n",
      "3                n_tokens_content  Feature   Continuous        None   \n",
      "4                 n_unique_tokens  Feature   Continuous        None   \n",
      "..                            ...      ...          ...         ...   \n",
      "56             title_subjectivity  Feature   Continuous        None   \n",
      "57       title_sentiment_polarity  Feature   Continuous        None   \n",
      "58         abs_title_subjectivity  Feature   Continuous        None   \n",
      "59   abs_title_sentiment_polarity  Feature   Continuous        None   \n",
      "60                         shares   Target      Integer        None   \n",
      "\n",
      "   description units missing_values  \n",
      "0         None  None             no  \n",
      "1         None  None             no  \n",
      "2         None  None             no  \n",
      "3         None  None             no  \n",
      "4         None  None             no  \n",
      "..         ...   ...            ...  \n",
      "56        None  None             no  \n",
      "57        None  None             no  \n",
      "58        None  None             no  \n",
      "59        None  None             no  \n",
      "60        None  None             no  \n",
      "\n",
      "[61 rows x 7 columns]\n"
     ]
    }
   ],
   "source": [
    "# load data without preprocessing\n",
    "from ucimlrepo import fetch_ucirepo\n",
    "\n",
    "# fetch dataset\n",
    "online_news_popularity = fetch_ucirepo(id=332)\n",
    "\n",
    "# data (as pandas dataframes)\n",
    "X_raw = online_news_popularity.data.features\n",
    "y_raw = online_news_popularity.data.targets\n",
    "\n",
    "# metadata\n",
    "print(online_news_popularity.metadata)\n",
    "# variable information\n",
    "print(online_news_popularity.variables)\n"
   ],
   "metadata": {
    "collapsed": false,
    "ExecuteTime": {
     "end_time": "2024-02-17T22:32:10.096387Z",
     "start_time": "2024-02-17T22:32:01.341868900Z"
    }
   }
  },
  {
   "cell_type": "code",
   "execution_count": 17,
   "outputs": [],
   "source": [
    "# split unpreprocessed data into training, validation and test sets\n",
    "X_train_raw, y_train_raw, X_val_raw, y_val_raw, X_test_raw, y_test_raw = split(X_raw, y_raw,test_size=0.2, val_size=0.3)"
   ],
   "metadata": {
    "collapsed": false,
    "ExecuteTime": {
     "end_time": "2024-02-17T22:32:10.171641Z",
     "start_time": "2024-02-17T22:32:10.100421100Z"
    }
   }
  },
  {
   "cell_type": "code",
   "execution_count": 18,
   "outputs": [
    {
     "name": "stderr",
     "output_type": "stream",
     "text": [
      "C:\\Users\\rodcs\\.conda\\envs\\data_science_tests\\Lib\\site-packages\\sklearn\\base.py:1152: DataConversionWarning: A column-vector y was passed when a 1d array was expected. Please change the shape of y to (n_samples,), for example using ravel().\n",
      "  return fit_method(estimator, *args, **kwargs)\n",
      "C:\\Users\\rodcs\\.conda\\envs\\data_science_tests\\Lib\\site-packages\\sklearn\\base.py:1152: DataConversionWarning: A column-vector y was passed when a 1d array was expected. Please change the shape of y to (n_samples,), for example using ravel().\n",
      "  return fit_method(estimator, *args, **kwargs)\n"
     ]
    },
    {
     "name": "stdout",
     "output_type": "stream",
     "text": [
      "Feature names: Index([' n_tokens_title', ' n_tokens_content', ' n_unique_tokens',\n",
      "       ' n_non_stop_words', ' n_non_stop_unique_tokens', ' num_hrefs',\n",
      "       ' num_self_hrefs', ' num_imgs', ' num_videos', ' average_token_length',\n",
      "       ' num_keywords', ' data_channel_is_lifestyle',\n",
      "       ' data_channel_is_entertainment', ' data_channel_is_bus',\n",
      "       ' data_channel_is_socmed', ' data_channel_is_tech',\n",
      "       ' data_channel_is_world', ' kw_min_min', ' kw_max_min', ' kw_avg_min',\n",
      "       ' kw_min_max', ' kw_max_max', ' kw_avg_max', ' kw_min_avg',\n",
      "       ' kw_max_avg', ' kw_avg_avg', ' self_reference_min_shares',\n",
      "       ' self_reference_max_shares', ' self_reference_avg_sharess',\n",
      "       ' weekday_is_monday', ' weekday_is_tuesday', ' weekday_is_wednesday',\n",
      "       ' weekday_is_thursday', ' weekday_is_friday', ' weekday_is_saturday',\n",
      "       ' weekday_is_sunday', ' is_weekend', ' LDA_00', ' LDA_01', ' LDA_02',\n",
      "       ' LDA_03', ' LDA_04', ' global_subjectivity',\n",
      "       ' global_sentiment_polarity', ' global_rate_positive_words',\n",
      "       ' global_rate_negative_words', ' rate_positive_words',\n",
      "       ' rate_negative_words', ' avg_positive_polarity',\n",
      "       ' min_positive_polarity', ' max_positive_polarity',\n",
      "       ' avg_negative_polarity', ' min_negative_polarity',\n",
      "       ' max_negative_polarity', ' title_subjectivity',\n",
      "       ' title_sentiment_polarity', ' abs_title_subjectivity',\n",
      "       ' abs_title_sentiment_polarity'],\n",
      "      dtype='object')\n"
     ]
    }
   ],
   "source": [
    "# create a random forest regressor model\n",
    "rf = RandomForestRegressor(n_estimators=72, random_state=42) # n_estimators is the number of trees in the forest\n",
    "rf.fit(X_train, y_train)\n",
    "X, y = get_raw_data()\n",
    "# create a random forest regressor model\n",
    "rf_raw = RandomForestRegressor(n_estimators=72, random_state=42) # n_estimators is the number of trees in the forest\n",
    "rf.fit(X_train_raw, y_train_raw)\n",
    "\n",
    "feature_names = X.columns\n",
    "print(f'Feature names: {feature_names}')"
   ],
   "metadata": {
    "collapsed": false,
    "ExecuteTime": {
     "end_time": "2024-02-17T22:39:24.149624Z",
     "start_time": "2024-02-17T22:32:10.152621100Z"
    }
   }
  },
  {
   "cell_type": "code",
   "execution_count": 19,
   "outputs": [
    {
     "name": "stdout",
     "output_type": "stream",
     "text": [
      "Mean Squared Error: 124206080.51295066\n",
      "Mean Absolute Error: 10745.95071429856\n"
     ]
    },
    {
     "name": "stderr",
     "output_type": "stream",
     "text": [
      "C:\\Users\\rodcs\\.conda\\envs\\data_science_tests\\Lib\\site-packages\\sklearn\\base.py:465: UserWarning: X does not have valid feature names, but RandomForestRegressor was fitted with feature names\n",
      "  warnings.warn(\n"
     ]
    }
   ],
   "source": [
    "# Caclulate performance using the validation set\n",
    "from sklearn.metrics import mean_squared_error, mean_absolute_error\n",
    "y_pred = rf.predict(X_val)\n",
    "mse = mean_squared_error(y_val, y_pred)\n",
    "mae = mean_absolute_error(y_val, y_pred)\n",
    "print(f'Mean Squared Error: {mse}')\n",
    "print(f'Mean Absolute Error: {mae}')\n"
   ],
   "metadata": {
    "collapsed": false,
    "ExecuteTime": {
     "end_time": "2024-02-17T22:39:24.192825200Z",
     "start_time": "2024-02-17T22:39:24.152623200Z"
    }
   }
  },
  {
   "cell_type": "code",
   "execution_count": 20,
   "outputs": [],
   "source": [
    "# tune hyperparameters\n",
    "def grid_search_tunning(n_estimators, criterion, max_depth, min_samples_split, X_train, y_train, X_val, y_val):\n",
    "    best_mse = float('inf')\n",
    "    best_params = {}\n",
    "    for n in n_estimators:\n",
    "        for c in criterion:\n",
    "            for d in max_depth:\n",
    "                for s in min_samples_split:\n",
    "                    rf = RandomForestRegressor(n_estimators=n, criterion=c, max_depth=d, min_samples_split=s, random_state=42)\n",
    "                    rf.fit(X_train, y_train)\n",
    "                    y_pred = rf.predict(X_val)\n",
    "                    mse = mean_squared_error(y_val, y_pred)\n",
    "                    if mse < best_mse:\n",
    "                        best_mse = mse\n",
    "                        best_params = {'n_estimators': n, 'criterion': c, 'max_depth': d, 'min_samples_split': s}\n",
    "    return best_mse, best_params"
   ],
   "metadata": {
    "collapsed": false,
    "ExecuteTime": {
     "end_time": "2024-02-17T22:39:24.202213300Z",
     "start_time": "2024-02-17T22:39:24.191825600Z"
    }
   }
  },
  {
   "cell_type": "code",
   "execution_count": null,
   "outputs": [
    {
     "name": "stderr",
     "output_type": "stream",
     "text": [
      "C:\\Users\\rodcs\\.conda\\envs\\data_science_tests\\Lib\\site-packages\\sklearn\\base.py:1152: DataConversionWarning: A column-vector y was passed when a 1d array was expected. Please change the shape of y to (n_samples,), for example using ravel().\n",
      "  return fit_method(estimator, *args, **kwargs)\n",
      "C:\\Users\\rodcs\\.conda\\envs\\data_science_tests\\Lib\\site-packages\\sklearn\\base.py:1152: DataConversionWarning: A column-vector y was passed when a 1d array was expected. Please change the shape of y to (n_samples,), for example using ravel().\n",
      "  return fit_method(estimator, *args, **kwargs)\n",
      "C:\\Users\\rodcs\\.conda\\envs\\data_science_tests\\Lib\\site-packages\\sklearn\\base.py:1152: DataConversionWarning: A column-vector y was passed when a 1d array was expected. Please change the shape of y to (n_samples,), for example using ravel().\n",
      "  return fit_method(estimator, *args, **kwargs)\n",
      "C:\\Users\\rodcs\\.conda\\envs\\data_science_tests\\Lib\\site-packages\\sklearn\\base.py:1152: DataConversionWarning: A column-vector y was passed when a 1d array was expected. Please change the shape of y to (n_samples,), for example using ravel().\n",
      "  return fit_method(estimator, *args, **kwargs)\n",
      "C:\\Users\\rodcs\\.conda\\envs\\data_science_tests\\Lib\\site-packages\\sklearn\\base.py:1152: DataConversionWarning: A column-vector y was passed when a 1d array was expected. Please change the shape of y to (n_samples,), for example using ravel().\n",
      "  return fit_method(estimator, *args, **kwargs)\n",
      "C:\\Users\\rodcs\\.conda\\envs\\data_science_tests\\Lib\\site-packages\\sklearn\\base.py:1152: DataConversionWarning: A column-vector y was passed when a 1d array was expected. Please change the shape of y to (n_samples,), for example using ravel().\n",
      "  return fit_method(estimator, *args, **kwargs)\n",
      "C:\\Users\\rodcs\\.conda\\envs\\data_science_tests\\Lib\\site-packages\\sklearn\\base.py:1152: DataConversionWarning: A column-vector y was passed when a 1d array was expected. Please change the shape of y to (n_samples,), for example using ravel().\n",
      "  return fit_method(estimator, *args, **kwargs)\n",
      "C:\\Users\\rodcs\\.conda\\envs\\data_science_tests\\Lib\\site-packages\\sklearn\\base.py:1152: DataConversionWarning: A column-vector y was passed when a 1d array was expected. Please change the shape of y to (n_samples,), for example using ravel().\n",
      "  return fit_method(estimator, *args, **kwargs)\n",
      "C:\\Users\\rodcs\\.conda\\envs\\data_science_tests\\Lib\\site-packages\\sklearn\\base.py:1152: DataConversionWarning: A column-vector y was passed when a 1d array was expected. Please change the shape of y to (n_samples,), for example using ravel().\n",
      "  return fit_method(estimator, *args, **kwargs)\n",
      "C:\\Users\\rodcs\\.conda\\envs\\data_science_tests\\Lib\\site-packages\\sklearn\\base.py:1152: DataConversionWarning: A column-vector y was passed when a 1d array was expected. Please change the shape of y to (n_samples,), for example using ravel().\n",
      "  return fit_method(estimator, *args, **kwargs)\n",
      "C:\\Users\\rodcs\\.conda\\envs\\data_science_tests\\Lib\\site-packages\\sklearn\\base.py:1152: DataConversionWarning: A column-vector y was passed when a 1d array was expected. Please change the shape of y to (n_samples,), for example using ravel().\n",
      "  return fit_method(estimator, *args, **kwargs)\n",
      "C:\\Users\\rodcs\\.conda\\envs\\data_science_tests\\Lib\\site-packages\\sklearn\\base.py:1152: DataConversionWarning: A column-vector y was passed when a 1d array was expected. Please change the shape of y to (n_samples,), for example using ravel().\n",
      "  return fit_method(estimator, *args, **kwargs)\n",
      "C:\\Users\\rodcs\\.conda\\envs\\data_science_tests\\Lib\\site-packages\\sklearn\\base.py:1152: DataConversionWarning: A column-vector y was passed when a 1d array was expected. Please change the shape of y to (n_samples,), for example using ravel().\n",
      "  return fit_method(estimator, *args, **kwargs)\n",
      "C:\\Users\\rodcs\\.conda\\envs\\data_science_tests\\Lib\\site-packages\\sklearn\\base.py:1152: DataConversionWarning: A column-vector y was passed when a 1d array was expected. Please change the shape of y to (n_samples,), for example using ravel().\n",
      "  return fit_method(estimator, *args, **kwargs)\n",
      "C:\\Users\\rodcs\\.conda\\envs\\data_science_tests\\Lib\\site-packages\\sklearn\\base.py:1152: DataConversionWarning: A column-vector y was passed when a 1d array was expected. Please change the shape of y to (n_samples,), for example using ravel().\n",
      "  return fit_method(estimator, *args, **kwargs)\n",
      "C:\\Users\\rodcs\\.conda\\envs\\data_science_tests\\Lib\\site-packages\\sklearn\\base.py:1152: DataConversionWarning: A column-vector y was passed when a 1d array was expected. Please change the shape of y to (n_samples,), for example using ravel().\n",
      "  return fit_method(estimator, *args, **kwargs)\n",
      "C:\\Users\\rodcs\\.conda\\envs\\data_science_tests\\Lib\\site-packages\\sklearn\\base.py:1152: DataConversionWarning: A column-vector y was passed when a 1d array was expected. Please change the shape of y to (n_samples,), for example using ravel().\n",
      "  return fit_method(estimator, *args, **kwargs)\n",
      "C:\\Users\\rodcs\\.conda\\envs\\data_science_tests\\Lib\\site-packages\\sklearn\\base.py:1152: DataConversionWarning: A column-vector y was passed when a 1d array was expected. Please change the shape of y to (n_samples,), for example using ravel().\n",
      "  return fit_method(estimator, *args, **kwargs)\n",
      "C:\\Users\\rodcs\\.conda\\envs\\data_science_tests\\Lib\\site-packages\\sklearn\\base.py:1152: DataConversionWarning: A column-vector y was passed when a 1d array was expected. Please change the shape of y to (n_samples,), for example using ravel().\n",
      "  return fit_method(estimator, *args, **kwargs)\n",
      "C:\\Users\\rodcs\\.conda\\envs\\data_science_tests\\Lib\\site-packages\\sklearn\\base.py:1152: DataConversionWarning: A column-vector y was passed when a 1d array was expected. Please change the shape of y to (n_samples,), for example using ravel().\n",
      "  return fit_method(estimator, *args, **kwargs)\n",
      "C:\\Users\\rodcs\\.conda\\envs\\data_science_tests\\Lib\\site-packages\\sklearn\\base.py:1152: DataConversionWarning: A column-vector y was passed when a 1d array was expected. Please change the shape of y to (n_samples,), for example using ravel().\n",
      "  return fit_method(estimator, *args, **kwargs)\n",
      "C:\\Users\\rodcs\\.conda\\envs\\data_science_tests\\Lib\\site-packages\\sklearn\\base.py:1152: DataConversionWarning: A column-vector y was passed when a 1d array was expected. Please change the shape of y to (n_samples,), for example using ravel().\n",
      "  return fit_method(estimator, *args, **kwargs)\n",
      "C:\\Users\\rodcs\\.conda\\envs\\data_science_tests\\Lib\\site-packages\\sklearn\\base.py:1152: DataConversionWarning: A column-vector y was passed when a 1d array was expected. Please change the shape of y to (n_samples,), for example using ravel().\n",
      "  return fit_method(estimator, *args, **kwargs)\n",
      "C:\\Users\\rodcs\\.conda\\envs\\data_science_tests\\Lib\\site-packages\\sklearn\\base.py:1152: DataConversionWarning: A column-vector y was passed when a 1d array was expected. Please change the shape of y to (n_samples,), for example using ravel().\n",
      "  return fit_method(estimator, *args, **kwargs)\n",
      "C:\\Users\\rodcs\\.conda\\envs\\data_science_tests\\Lib\\site-packages\\sklearn\\base.py:1152: DataConversionWarning: A column-vector y was passed when a 1d array was expected. Please change the shape of y to (n_samples,), for example using ravel().\n",
      "  return fit_method(estimator, *args, **kwargs)\n",
      "C:\\Users\\rodcs\\.conda\\envs\\data_science_tests\\Lib\\site-packages\\sklearn\\base.py:1152: DataConversionWarning: A column-vector y was passed when a 1d array was expected. Please change the shape of y to (n_samples,), for example using ravel().\n",
      "  return fit_method(estimator, *args, **kwargs)\n",
      "C:\\Users\\rodcs\\.conda\\envs\\data_science_tests\\Lib\\site-packages\\sklearn\\base.py:1152: DataConversionWarning: A column-vector y was passed when a 1d array was expected. Please change the shape of y to (n_samples,), for example using ravel().\n",
      "  return fit_method(estimator, *args, **kwargs)\n",
      "C:\\Users\\rodcs\\.conda\\envs\\data_science_tests\\Lib\\site-packages\\sklearn\\base.py:1152: DataConversionWarning: A column-vector y was passed when a 1d array was expected. Please change the shape of y to (n_samples,), for example using ravel().\n",
      "  return fit_method(estimator, *args, **kwargs)\n",
      "C:\\Users\\rodcs\\.conda\\envs\\data_science_tests\\Lib\\site-packages\\sklearn\\base.py:1152: DataConversionWarning: A column-vector y was passed when a 1d array was expected. Please change the shape of y to (n_samples,), for example using ravel().\n",
      "  return fit_method(estimator, *args, **kwargs)\n",
      "C:\\Users\\rodcs\\.conda\\envs\\data_science_tests\\Lib\\site-packages\\sklearn\\base.py:1152: DataConversionWarning: A column-vector y was passed when a 1d array was expected. Please change the shape of y to (n_samples,), for example using ravel().\n",
      "  return fit_method(estimator, *args, **kwargs)\n",
      "C:\\Users\\rodcs\\.conda\\envs\\data_science_tests\\Lib\\site-packages\\sklearn\\base.py:1152: DataConversionWarning: A column-vector y was passed when a 1d array was expected. Please change the shape of y to (n_samples,), for example using ravel().\n",
      "  return fit_method(estimator, *args, **kwargs)\n"
     ]
    }
   ],
   "source": [
    "grid_search_tunning(n_estimators=[100],\n",
    "                    criterion=[\"squared_error\", \"friedman_mse\", \"absolute_error\"],\n",
    "                    max_depth=[None, 10, 20, 30, 50],\n",
    "                    min_samples_split=[2, 5, 10],\n",
    "                    X_train=X_train, y_train=y_train,\n",
    "                    X_val=X_val,\n",
    "                    y_val=y_val)"
   ],
   "metadata": {
    "collapsed": false,
    "is_executing": true,
    "ExecuteTime": {
     "start_time": "2024-02-17T22:39:24.205212500Z"
    }
   }
  },
  {
   "cell_type": "code",
   "execution_count": null,
   "outputs": [],
   "source": [],
   "metadata": {
    "collapsed": false,
    "is_executing": true
   }
  }
 ],
 "metadata": {
  "kernelspec": {
   "display_name": "Python 3",
   "language": "python",
   "name": "python3"
  },
  "language_info": {
   "codemirror_mode": {
    "name": "ipython",
    "version": 2
   },
   "file_extension": ".py",
   "mimetype": "text/x-python",
   "name": "python",
   "nbconvert_exporter": "python",
   "pygments_lexer": "ipython2",
   "version": "2.7.6"
  }
 },
 "nbformat": 4,
 "nbformat_minor": 0
}
