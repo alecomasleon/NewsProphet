{
 "cells": [
  {
   "cell_type": "code",
   "execution_count": 40,
   "metadata": {},
   "outputs": [],
   "source": [
    "import sys\n",
    "sys.path.append('/usr/local/lib/python3.9/site-packages/')\n",
    "\n",
    "from ucimlrepo import fetch_ucirepo\n",
    "from sklearn.linear_model import LinearRegression\n",
    "from sklearn.metrics import mean_absolute_error, mean_squared_error, r2_score"
   ]
  },
  {
   "cell_type": "code",
   "execution_count": 41,
   "metadata": {},
   "outputs": [
    {
     "name": "stdout",
     "output_type": "stream",
     "text": [
      "(19821, 58)\n",
      "(11894, 58)\n",
      "(7929, 58)\n"
     ]
    }
   ],
   "source": [
    "%run preprocess.ipynb"
   ]
  },
  {
   "cell_type": "code",
   "execution_count": 42,
   "metadata": {},
   "outputs": [
    {
     "name": "stdout",
     "output_type": "stream",
     "text": [
      "(33696, 58)\n",
      "(1, 58)\n",
      "(5947, 58)\n"
     ]
    }
   ],
   "source": [
    "X_train, y_train, X_val, y_val, X_test, y_test = get_processed_data(test_size=0.15, val_size=0.000000001)\n",
    "print(X_train.shape)\n",
    "print(X_val.shape)\n",
    "print(X_test.shape)"
   ]
  },
  {
   "cell_type": "code",
   "execution_count": 43,
   "metadata": {},
   "outputs": [
    {
     "data": {
      "text/plain": [
       "LinearRegression()"
      ]
     },
     "execution_count": 43,
     "metadata": {},
     "output_type": "execute_result"
    }
   ],
   "source": [
    "model = LinearRegression().fit(X_train, y_train)\n",
    "model"
   ]
  },
  {
   "cell_type": "code",
   "execution_count": 44,
   "metadata": {},
   "outputs": [
    {
     "name": "stdout",
     "output_type": "stream",
     "text": [
      "[-0.06248226]\n",
      "[-0.2383613]\n"
     ]
    }
   ],
   "source": [
    "n = 7\n",
    "print(model.predict(X_test[n].reshape(1, -1))[0])\n",
    "print(y_test[n])"
   ]
  },
  {
   "cell_type": "code",
   "execution_count": 45,
   "metadata": {},
   "outputs": [],
   "source": [
    "y_pred = model.predict(X_test)"
   ]
  },
  {
   "cell_type": "code",
   "execution_count": 46,
   "metadata": {},
   "outputs": [],
   "source": [
    "%run evaluate_model.ipynb"
   ]
  },
  {
   "cell_type": "code",
   "execution_count": 47,
   "metadata": {},
   "outputs": [
    {
     "name": "stdout",
     "output_type": "stream",
     "text": [
      "r2 score: 0.03388488887776775\n",
      "mean absolute error: 0.2577917952122935\n",
      "mean squared error: 0.5957937149309394\n"
     ]
    },
    {
     "data": {
      "text/plain": [
       "(0.03388488887776775, 0.2577917952122935, 0.5957937149309394)"
      ]
     },
     "execution_count": 47,
     "metadata": {},
     "output_type": "execute_result"
    }
   ],
   "source": [
    "evaluate_model(y_test, y_pred)"
   ]
  },
  {
   "cell_type": "code",
   "execution_count": 62,
   "metadata": {},
   "outputs": [
    {
     "data": {
      "text/plain": [
       "' n_tokens_title'"
      ]
     },
     "execution_count": 62,
     "metadata": {},
     "output_type": "execute_result"
    }
   ],
   "source": [
    "X, y = get_raw_data()\n",
    "X.columns[0]"
   ]
  },
  {
   "cell_type": "code",
   "execution_count": 69,
   "metadata": {},
   "outputs": [
    {
     "data": {
      "text/plain": [
       "{' n_tokens_title': 0.016085982919781312,\n",
       " ' n_tokens_content': 0.03031582580556824,\n",
       " ' n_unique_tokens': 1.137085690156448,\n",
       " ' n_non_stop_words': -0.7492971587816551,\n",
       " ' n_non_stop_unique_tokens': -0.43056229717958594,\n",
       " ' num_hrefs': 0.02687364112386506,\n",
       " ' num_self_hrefs': -0.019363509270009197,\n",
       " ' num_imgs': 0.00497446487355583,\n",
       " ' num_videos': 0.0029709645877957717,\n",
       " ' average_token_length': -0.04149113669016708,\n",
       " ' num_keywords': 0.008247536268603223,\n",
       " ' data_channel_is_lifestyle': -0.027257887919610868,\n",
       " ' data_channel_is_entertainment': -0.04782209606363669,\n",
       " ' data_channel_is_bus': -0.0345422914221828,\n",
       " ' data_channel_is_socmed': -0.01784660521704813,\n",
       " ' data_channel_is_tech': -0.02867409108981385,\n",
       " ' data_channel_is_world': -0.03077223742706016,\n",
       " ' kw_min_min': 0.015734385666768075,\n",
       " ' kw_max_min': 0.029609704242810054,\n",
       " ' kw_avg_min': -0.03193359646264185,\n",
       " ' kw_min_max': -0.009537907661784606,\n",
       " ' kw_max_max': -0.006086789643466224,\n",
       " ' kw_avg_max': -0.01596072624643552,\n",
       " ' kw_min_avg': -0.031715861502917775,\n",
       " ' kw_max_avg': -0.10124048333395341,\n",
       " ' kw_avg_avg': 0.1777276248707962,\n",
       " ' self_reference_min_shares': 0.028354456469775524,\n",
       " ' self_reference_max_shares': -0.011581889811091345,\n",
       " ' self_reference_avg_sharess': 0.029938919784055718,\n",
       " ' weekday_is_monday': 17778323762.824314,\n",
       " ' weekday_is_tuesday': 18517827181.45685,\n",
       " ' weekday_is_wednesday': 18561160401.16277,\n",
       " ' weekday_is_thursday': 18398054432.5773,\n",
       " ' weekday_is_friday': 16685016838.030289,\n",
       " ' weekday_is_saturday': 49802297125.8767,\n",
       " ' weekday_is_sunday': 52405086729.05125,\n",
       " ' is_weekend': -53685380283.75163,\n",
       " ' LDA_00': -2.366115689277649,\n",
       " ' LDA_01': -1.9935483932495117,\n",
       " ' LDA_02': -2.56942081451416,\n",
       " ' LDA_03': -2.670140266418457,\n",
       " ' LDA_04': -2.6152420043945312,\n",
       " ' global_subjectivity': 0.026274889707565308,\n",
       " ' global_sentiment_polarity': 0.006675243377685547,\n",
       " ' global_rate_positive_words': -0.02439737319946289,\n",
       " ' global_rate_negative_words': 0.009127140045166016,\n",
       " ' rate_positive_words': 0.03580474853515625,\n",
       " ' rate_negative_words': 0.021596550941467285,\n",
       " ' avg_positive_polarity': -0.017836809158325195,\n",
       " ' min_positive_polarity': -0.008487701416015625,\n",
       " ' max_positive_polarity': 0.009106159210205078,\n",
       " ' avg_negative_polarity': -0.018636703491210938,\n",
       " ' min_negative_polarity': 0.006839752197265625,\n",
       " ' max_negative_polarity': -0.004930973052978516,\n",
       " ' title_subjectivity': -0.004020214080810547,\n",
       " ' title_sentiment_polarity': 0.0068798065185546875,\n",
       " ' abs_title_subjectivity': 0.012529373168945312,\n",
       " ' abs_title_sentiment_polarity': 0.013973236083984375}"
      ]
     },
     "execution_count": 69,
     "metadata": {},
     "output_type": "execute_result"
    }
   ],
   "source": [
    "fi = {}\n",
    "for i in range(len(model.coef_[0])):\n",
    "    fi[X.columns[i]] = model.coef_[0][i]\n",
    "\n",
    "fi"
   ]
  },
  {
   "cell_type": "code",
   "execution_count": 71,
   "metadata": {},
   "outputs": [
    {
     "data": {
      "text/plain": [
       "[(' weekday_is_sunday', 52405086729.05125),\n",
       " (' weekday_is_saturday', 49802297125.8767),\n",
       " (' weekday_is_wednesday', 18561160401.16277),\n",
       " (' weekday_is_tuesday', 18517827181.45685),\n",
       " (' weekday_is_thursday', 18398054432.5773),\n",
       " (' weekday_is_monday', 17778323762.824314),\n",
       " (' weekday_is_friday', 16685016838.030289),\n",
       " (' n_unique_tokens', 1.137085690156448),\n",
       " (' kw_avg_avg', 0.1777276248707962),\n",
       " (' rate_positive_words', 0.03580474853515625),\n",
       " (' n_tokens_content', 0.03031582580556824),\n",
       " (' self_reference_avg_sharess', 0.029938919784055718),\n",
       " (' kw_max_min', 0.029609704242810054),\n",
       " (' self_reference_min_shares', 0.028354456469775524),\n",
       " (' num_hrefs', 0.02687364112386506),\n",
       " (' global_subjectivity', 0.026274889707565308),\n",
       " (' rate_negative_words', 0.021596550941467285),\n",
       " (' n_tokens_title', 0.016085982919781312),\n",
       " (' kw_min_min', 0.015734385666768075),\n",
       " (' abs_title_sentiment_polarity', 0.013973236083984375),\n",
       " (' abs_title_subjectivity', 0.012529373168945312),\n",
       " (' global_rate_negative_words', 0.009127140045166016),\n",
       " (' max_positive_polarity', 0.009106159210205078),\n",
       " (' num_keywords', 0.008247536268603223),\n",
       " (' title_sentiment_polarity', 0.0068798065185546875),\n",
       " (' min_negative_polarity', 0.006839752197265625),\n",
       " (' global_sentiment_polarity', 0.006675243377685547),\n",
       " (' num_imgs', 0.00497446487355583),\n",
       " (' num_videos', 0.0029709645877957717),\n",
       " (' title_subjectivity', -0.004020214080810547),\n",
       " (' max_negative_polarity', -0.004930973052978516),\n",
       " (' kw_max_max', -0.006086789643466224),\n",
       " (' min_positive_polarity', -0.008487701416015625),\n",
       " (' kw_min_max', -0.009537907661784606),\n",
       " (' self_reference_max_shares', -0.011581889811091345),\n",
       " (' kw_avg_max', -0.01596072624643552),\n",
       " (' avg_positive_polarity', -0.017836809158325195),\n",
       " (' data_channel_is_socmed', -0.01784660521704813),\n",
       " (' avg_negative_polarity', -0.018636703491210938),\n",
       " (' num_self_hrefs', -0.019363509270009197),\n",
       " (' global_rate_positive_words', -0.02439737319946289),\n",
       " (' data_channel_is_lifestyle', -0.027257887919610868),\n",
       " (' data_channel_is_tech', -0.02867409108981385),\n",
       " (' data_channel_is_world', -0.03077223742706016),\n",
       " (' kw_min_avg', -0.031715861502917775),\n",
       " (' kw_avg_min', -0.03193359646264185),\n",
       " (' data_channel_is_bus', -0.0345422914221828),\n",
       " (' average_token_length', -0.04149113669016708),\n",
       " (' data_channel_is_entertainment', -0.04782209606363669),\n",
       " (' kw_max_avg', -0.10124048333395341),\n",
       " (' n_non_stop_unique_tokens', -0.43056229717958594),\n",
       " (' n_non_stop_words', -0.7492971587816551),\n",
       " (' LDA_01', -1.9935483932495117),\n",
       " (' LDA_00', -2.366115689277649),\n",
       " (' LDA_02', -2.56942081451416),\n",
       " (' LDA_04', -2.6152420043945312),\n",
       " (' LDA_03', -2.670140266418457),\n",
       " (' is_weekend', -53685380283.75163)]"
      ]
     },
     "execution_count": 71,
     "metadata": {},
     "output_type": "execute_result"
    }
   ],
   "source": [
    "sorted_fi = sorted(fi.items(), key=lambda x: x[1], reverse=True)\n",
    "sorted_fi"
   ]
  }
 ],
 "metadata": {
  "kernelspec": {
   "display_name": "Python 3",
   "language": "python",
   "name": "python3"
  },
  "language_info": {
   "codemirror_mode": {
    "name": "ipython",
    "version": 3
   },
   "file_extension": ".py",
   "mimetype": "text/x-python",
   "name": "python",
   "nbconvert_exporter": "python",
   "pygments_lexer": "ipython3",
   "version": "3.9.6"
  }
 },
 "nbformat": 4,
 "nbformat_minor": 2
}
