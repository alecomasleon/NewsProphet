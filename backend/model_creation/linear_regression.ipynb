{
 "cells": [
  {
   "cell_type": "code",
   "execution_count": 40,
   "metadata": {},
   "outputs": [],
   "source": [
    "import sys\n",
    "sys.path.append('/usr/local/lib/python3.9/site-packages/')\n",
    "\n",
    "from ucimlrepo import fetch_ucirepo\n",
    "from sklearn.linear_model import LinearRegression\n",
    "from sklearn.metrics import mean_absolute_error, mean_squared_error, r2_score"
   ]
  },
  {
   "cell_type": "code",
   "execution_count": 41,
   "metadata": {},
   "outputs": [
    {
     "name": "stdout",
     "output_type": "stream",
     "text": [
      "(19821, 58)\n",
      "(11894, 58)\n",
      "(7929, 58)\n"
     ]
    }
   ],
   "source": [
    "%run preprocess.ipynb"
   ]
  },
  {
   "cell_type": "code",
   "execution_count": 42,
   "metadata": {},
   "outputs": [
    {
     "name": "stdout",
     "output_type": "stream",
     "text": [
      "(33696, 58)\n",
      "(1, 58)\n",
      "(5947, 58)\n"
     ]
    }
   ],
   "source": [
    "X_train, y_train, X_val, y_val, X_test, y_test = get_processed_data(test_size=0.15, val_size=0.000000001)\n",
    "print(X_train.shape)\n",
    "print(X_val.shape)\n",
    "print(X_test.shape)"
   ]
  },
  {
   "cell_type": "code",
   "execution_count": 43,
   "metadata": {},
   "outputs": [
    {
     "data": {
      "text/plain": [
       "LinearRegression()"
      ]
     },
     "execution_count": 43,
     "metadata": {},
     "output_type": "execute_result"
    }
   ],
   "source": [
    "model = LinearRegression().fit(X_train, y_train)\n",
    "model"
   ]
  },
  {
   "cell_type": "code",
   "execution_count": 44,
   "metadata": {},
   "outputs": [
    {
     "name": "stdout",
     "output_type": "stream",
     "text": [
      "[-0.06248226]\n",
      "[-0.2383613]\n"
     ]
    }
   ],
   "source": [
    "n = 7\n",
    "print(model.predict(X_test[n].reshape(1, -1))[0])\n",
    "print(y_test[n])"
   ]
  },
  {
   "cell_type": "code",
   "execution_count": 45,
   "metadata": {},
   "outputs": [],
   "source": [
    "y_pred = model.predict(X_test)"
   ]
  },
  {
   "cell_type": "code",
   "execution_count": 46,
   "metadata": {},
   "outputs": [],
   "source": [
    "%run evaluate_model.ipynb"
   ]
  },
  {
   "cell_type": "code",
   "execution_count": 47,
   "metadata": {},
   "outputs": [
    {
     "name": "stdout",
     "output_type": "stream",
     "text": [
      "r2 score: 0.03388488887776775\n",
      "mean absolute error: 0.2577917952122935\n",
      "mean squared error: 0.5957937149309394\n"
     ]
    },
    {
     "data": {
      "text/plain": [
       "(0.03388488887776775, 0.2577917952122935, 0.5957937149309394)"
      ]
     },
     "execution_count": 47,
     "metadata": {},
     "output_type": "execute_result"
    }
   ],
   "source": [
    "evaluate_model(y_test, y_pred)"
   ]
  },
  {
   "cell_type": "code",
   "execution_count": 48,
   "metadata": {},
   "outputs": [
    {
     "data": {
      "text/plain": [
       "array([[ 1.60859829e-02,  3.03158258e-02,  1.13708569e+00,\n",
       "        -7.49297159e-01, -4.30562297e-01,  2.68736411e-02,\n",
       "        -1.93635093e-02,  4.97446487e-03,  2.97096459e-03,\n",
       "        -4.14911367e-02,  8.24753627e-03, -2.72578879e-02,\n",
       "        -4.78220961e-02, -3.45422914e-02, -1.78466052e-02,\n",
       "        -2.86740911e-02, -3.07722374e-02,  1.57343857e-02,\n",
       "         2.96097042e-02, -3.19335965e-02, -9.53790766e-03,\n",
       "        -6.08678964e-03, -1.59607262e-02, -3.17158615e-02,\n",
       "        -1.01240483e-01,  1.77727625e-01,  2.83544565e-02,\n",
       "        -1.15818898e-02,  2.99389198e-02,  1.77783238e+10,\n",
       "         1.85178272e+10,  1.85611604e+10,  1.83980544e+10,\n",
       "         1.66850168e+10,  4.98022971e+10,  5.24050867e+10,\n",
       "        -5.36853803e+10, -2.36611569e+00, -1.99354839e+00,\n",
       "        -2.56942081e+00, -2.67014027e+00, -2.61524200e+00,\n",
       "         2.62748897e-02,  6.67524338e-03, -2.43973732e-02,\n",
       "         9.12714005e-03,  3.58047485e-02,  2.15965509e-02,\n",
       "        -1.78368092e-02, -8.48770142e-03,  9.10615921e-03,\n",
       "        -1.86367035e-02,  6.83975220e-03, -4.93097305e-03,\n",
       "        -4.02021408e-03,  6.87980652e-03,  1.25293732e-02,\n",
       "         1.39732361e-02]])"
      ]
     },
     "execution_count": 48,
     "metadata": {},
     "output_type": "execute_result"
    }
   ],
   "source": [
    "model.coef_"
   ]
  }
 ],
 "metadata": {
  "kernelspec": {
   "display_name": "Python 3",
   "language": "python",
   "name": "python3"
  },
  "language_info": {
   "codemirror_mode": {
    "name": "ipython",
    "version": 3
   },
   "file_extension": ".py",
   "mimetype": "text/x-python",
   "name": "python",
   "nbconvert_exporter": "python",
   "pygments_lexer": "ipython3",
   "version": "3.9.6"
  }
 },
 "nbformat": 4,
 "nbformat_minor": 2
}
