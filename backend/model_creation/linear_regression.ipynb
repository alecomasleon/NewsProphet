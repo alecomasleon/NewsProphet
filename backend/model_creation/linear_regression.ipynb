{
 "cells": [
  {
   "cell_type": "code",
   "execution_count": 1,
   "metadata": {
    "ExecuteTime": {
     "end_time": "2024-02-18T09:04:03.072684100Z",
     "start_time": "2024-02-18T09:04:02.591540900Z"
    }
   },
   "outputs": [],
   "source": [
    "import sys\n",
    "sys.path.append('/usr/local/lib/python3.9/site-packages/')\n",
    "\n",
    "from ucimlrepo import fetch_ucirepo\n",
    "from sklearn.linear_model import LinearRegression\n",
    "from sklearn.metrics import mean_absolute_error, mean_squared_error, r2_score"
   ]
  },
  {
   "cell_type": "code",
   "execution_count": 2,
   "metadata": {
    "ExecuteTime": {
     "end_time": "2024-02-18T09:04:04.768679200Z",
     "start_time": "2024-02-18T09:04:03.524669700Z"
    }
   },
   "outputs": [
    {
     "name": "stdout",
     "output_type": "stream",
     "text": [
      "X shape: (12600, 30) y shape: (12600,)\n",
      "   n_tokens_title  n_tokens_content  n_unique_tokens  n_non_stop_words  \\\n",
      "0        0.947707         -0.439662         0.428161          0.002998   \n",
      "1       -0.684112         -0.329189        -0.117285         -0.230132   \n",
      "2       -0.684112         -0.488761        -0.049791         -0.040442   \n",
      "3       -0.140172          0.315234        -1.027334         -0.225009   \n",
      "4        1.491646         -0.200305        -0.756442          0.313212   \n",
      "\n",
      "   n_non_stop_unique_tokens  num_hrefs  num_imgs  num_videos  \\\n",
      "0                 -0.418972  -0.324104 -0.313340         0.0   \n",
      "1                 -0.319133  -0.584280 -0.313340         0.0   \n",
      "2                 -0.568731  -0.584280 -0.313340         0.0   \n",
      "3                  0.296542  -0.454192  0.058349         0.0   \n",
      "4                 -0.244254  -0.844455 -0.313340         0.0   \n",
      "\n",
      "   average_token_length  weekday_is_monday  ...  global_rate_negative_words  \\\n",
      "0             -0.186062                  1  ...                   -1.674196   \n",
      "1              0.390074                  1  ...                   -1.674196   \n",
      "2             -0.329677                  1  ...                   -1.674196   \n",
      "3             -1.096564                  1  ...                   -1.674196   \n",
      "4             -0.384493                  1  ...                   -1.674196   \n",
      "\n",
      "   rate_positive_words  rate_negative_words  avg_positive_polarity  \\\n",
      "0               1.6741              -1.6741              -3.531853   \n",
      "1               1.6741              -1.6741              -0.424823   \n",
      "2               1.6741              -1.6741               8.867751   \n",
      "3               1.6741              -1.6741              -2.101861   \n",
      "4               1.6741              -1.6741               1.562192   \n",
      "\n",
      "   max_positive_polarity  avg_negative_polarity  min_negative_polarity  \\\n",
      "0              -3.280911               0.121589               9.744565   \n",
      "1              -2.643867               0.121589               9.744565   \n",
      "2              -0.673668               0.121589               9.744565   \n",
      "3              -0.673668               0.121589               9.744565   \n",
      "4              -0.673668               0.121589               9.744565   \n",
      "\n",
      "   title_subjectivity  title_sentiment_polarity  abs_title_sentiment_polarity  \n",
      "0            0.730842                 -1.002120                      0.163599  \n",
      "1           -0.806824                 -0.291287                     -0.650595  \n",
      "2           -0.806824                 -0.291287                     -0.650595  \n",
      "3           -0.806824                 -0.291287                     -0.650595  \n",
      "4            0.591055                  0.225684                     -0.058454  \n",
      "\n",
      "[5 rows x 30 columns]\n"
     ]
    }
   ],
   "source": [
    "# load data\n",
    "%run new_preprocess.ipynb\n",
    "def split(X, y, test_size, val_size):\n",
    "    X_train, X_test, y_train, y_test = train_test_split(X, y, test_size=test_size, random_state=1)\n",
    "    X_train, X_val, y_train, y_val = train_test_split(X_train, y_train, test_size=val_size/(1-test_size), random_state=1)\n",
    "\n",
    "    return X_train, y_train, X_val, y_val, X_test, y_test\n",
    "\n",
    "df = pd.read_csv('cleaned_extracted_data.csv')\n",
    "df = df.drop('Unnamed: 0', axis=1)\n",
    "X = df.drop('shares', axis=1)\n",
    "y = df['shares']\n",
    "print(f\"X shape: {X.shape}\", f\"y shape: {y.shape}\")\n",
    "print(X.head())\n",
    "X_train, y_train, X_val, y_val, X_test, y_test = split(X, y, 0.1, 0.3)\n"
   ]
  },
  {
   "cell_type": "code",
   "execution_count": 3,
   "metadata": {
    "ExecuteTime": {
     "end_time": "2024-02-18T09:04:19.172022200Z",
     "start_time": "2024-02-18T09:04:19.158441400Z"
    }
   },
   "outputs": [
    {
     "name": "stdout",
     "output_type": "stream",
     "text": [
      "(7560, 30)\n",
      "(3780, 30)\n",
      "(1260, 30)\n"
     ]
    }
   ],
   "source": [
    "\n",
    "print(X_train.shape)\n",
    "print(X_val.shape)\n",
    "print(X_test.shape)"
   ]
  },
  {
   "cell_type": "code",
   "execution_count": 15,
   "metadata": {},
   "outputs": [],
   "source": []
  },
  {
   "cell_type": "code",
   "execution_count": 5,
   "metadata": {
    "ExecuteTime": {
     "end_time": "2024-02-18T09:12:36.983658400Z",
     "start_time": "2024-02-18T09:12:36.961620700Z"
    }
   },
   "outputs": [
    {
     "name": "stdout",
     "output_type": "stream",
     "text": [
      "Score: -0.00702688125847839\n",
      "MSE: 0.8906769553941467\n"
     ]
    }
   ],
   "source": [
    "lin_regression = LinearRegression()\n",
    "lin_regression.fit(X_train, y_train)\n",
    "y_pred = lin_regression.predict(X_val)\n",
    "score = lin_regression.score(X_val, y_val)\n",
    "mse = mean_squared_error(y_val, y_pred)\n",
    "print(f\"Score: {score}\")\n",
    "print(f\"MSE: {mse}\")\n"
   ]
  },
  {
   "cell_type": "code",
   "execution_count": null,
   "metadata": {},
   "outputs": [
    {
     "name": "stdout",
     "output_type": "stream",
     "text": [
      "[-0.06248226]\n",
      "[-0.2383613]\n"
     ]
    }
   ],
   "source": [
    "n = 7\n",
    "print(model.predict(X_test[n].reshape(1, -1))[0])\n",
    "print(y_test[n])"
   ]
  },
  {
   "cell_type": "code",
   "execution_count": 17,
   "metadata": {},
   "outputs": [],
   "source": [
    "y_pred = model.predict(X_test)"
   ]
  },
  {
   "cell_type": "code",
   "execution_count": 18,
   "metadata": {},
   "outputs": [],
   "source": [
    "%run evaluate_model.ipynb"
   ]
  },
  {
   "cell_type": "code",
   "execution_count": 19,
   "metadata": {},
   "outputs": [
    {
     "name": "stdout",
     "output_type": "stream",
     "text": [
      "r2 score: 0.03615397771936224\n",
      "mean absolute error: 0.2574143628502953\n",
      "mean squared error: 0.5943943900938901\n"
     ]
    },
    {
     "data": {
      "text/plain": [
       "(0.03615397771936224, 0.2574143628502953, 0.5943943900938901)"
      ]
     },
     "execution_count": 19,
     "metadata": {},
     "output_type": "execute_result"
    }
   ],
   "source": [
    "evaluate_model(y_test, y_pred)"
   ]
  },
  {
   "cell_type": "code",
   "execution_count": 23,
   "metadata": {},
   "outputs": [
    {
     "data": {
      "text/plain": [
       "' n_tokens_title'"
      ]
     },
     "execution_count": 23,
     "metadata": {},
     "output_type": "execute_result"
    }
   ],
   "source": [
    "X, y = get_raw_data()\n",
    "X.columns[0]"
   ]
  },
  {
   "cell_type": "code",
   "execution_count": 24,
   "metadata": {},
   "outputs": [
    {
     "data": {
      "text/plain": [
       "{' n_tokens_title': 0.01604342865513687,\n",
       " ' n_tokens_content': 0.02998626601270766,\n",
       " ' n_unique_tokens': 1.1233738049264872,\n",
       " ' n_non_stop_words': -0.7613186004840153,\n",
       " ' n_non_stop_unique_tokens': -0.428167357921881,\n",
       " ' num_hrefs': 0.027273709889227105,\n",
       " ' num_self_hrefs': -0.018433916707105064,\n",
       " ' num_imgs': 0.004848872889149028,\n",
       " ' num_videos': 0.0028123898126159465,\n",
       " ' average_token_length': -0.0414048033240882,\n",
       " ' num_keywords': 0.00846266924726971,\n",
       " ' data_channel_is_lifestyle': -0.02649799503861941,\n",
       " ' data_channel_is_entertainment': -0.04753416775051074,\n",
       " ' data_channel_is_bus': -0.03408748756303546,\n",
       " ' data_channel_is_socmed': -0.01769214514292533,\n",
       " ' data_channel_is_tech': -0.02760515985209048,\n",
       " ' data_channel_is_world': -0.029849066251120757,\n",
       " ' kw_min_min': 0.015553488076021119,\n",
       " ' kw_max_min': 0.030424773591836023,\n",
       " ' kw_avg_min': -0.032739225610269415,\n",
       " ' kw_min_max': -0.009554195803776023,\n",
       " ' kw_max_max': -0.0061849519521910805,\n",
       " ' kw_avg_max': -0.016407234121315444,\n",
       " ' kw_min_avg': -0.03125512552374402,\n",
       " ' kw_max_avg': -0.10117339180091639,\n",
       " ' kw_avg_avg': 0.17774764345796806,\n",
       " ' self_reference_min_shares': 0.028302344720598182,\n",
       " ' self_reference_max_shares': -0.011786172708414805,\n",
       " ' self_reference_avg_sharess': 0.029965476982216386,\n",
       " ' weekday_is_monday': 0.001555469951969327,\n",
       " ' weekday_is_tuesday': -3.5819858445363417,\n",
       " ' weekday_is_wednesday': -3.008839577106072,\n",
       " ' weekday_is_thursday': -3.8742010325510043,\n",
       " ' weekday_is_friday': -4.034620973650764,\n",
       " ' weekday_is_saturday': -3.9528025550224526,\n",
       " ' weekday_is_sunday': 0.0260997369628036,\n",
       " ' is_weekend': 0.006470225632120966,\n",
       " ' LDA_00': -0.024342204351803298,\n",
       " ' LDA_01': 0.009288012868292513,\n",
       " ' LDA_02': 0.03574881196539342,\n",
       " ' LDA_03': 0.021454803017609526,\n",
       " ' LDA_04': -0.017264774094374446,\n",
       " ' global_subjectivity': -0.008777056052569456,\n",
       " ' global_sentiment_polarity': 0.009512404673021944,\n",
       " ' global_rate_positive_words': -0.019283033315948377,\n",
       " ' global_rate_negative_words': 0.007015345246015563,\n",
       " ' rate_positive_words': -0.00450842812567739,\n",
       " ' rate_negative_words': -0.004499455983124891,\n",
       " ' avg_positive_polarity': 0.006957824708876243,\n",
       " ' min_positive_polarity': 0.011884504416451613,\n",
       " ' max_positive_polarity': 0.01393782320102146}"
      ]
     },
     "execution_count": 24,
     "metadata": {},
     "output_type": "execute_result"
    }
   ],
   "source": [
    "fi = {}\n",
    "for i in range(len(model.coef_[0])):\n",
    "    fi[X.columns[i]] = model.coef_[0][i]\n",
    "\n",
    "fi"
   ]
  },
  {
   "cell_type": "code",
   "execution_count": null,
   "metadata": {},
   "outputs": [
    {
     "data": {
      "text/plain": [
       "[(' weekday_is_sunday', 52405086729.05125),\n",
       " (' weekday_is_saturday', 49802297125.8767),\n",
       " (' weekday_is_wednesday', 18561160401.16277),\n",
       " (' weekday_is_tuesday', 18517827181.45685),\n",
       " (' weekday_is_thursday', 18398054432.5773),\n",
       " (' weekday_is_monday', 17778323762.824314),\n",
       " (' weekday_is_friday', 16685016838.030289),\n",
       " (' n_unique_tokens', 1.137085690156448),\n",
       " (' kw_avg_avg', 0.1777276248707962),\n",
       " (' rate_positive_words', 0.03580474853515625),\n",
       " (' n_tokens_content', 0.03031582580556824),\n",
       " (' self_reference_avg_sharess', 0.029938919784055718),\n",
       " (' kw_max_min', 0.029609704242810054),\n",
       " (' self_reference_min_shares', 0.028354456469775524),\n",
       " (' num_hrefs', 0.02687364112386506),\n",
       " (' global_subjectivity', 0.026274889707565308),\n",
       " (' rate_negative_words', 0.021596550941467285),\n",
       " (' n_tokens_title', 0.016085982919781312),\n",
       " (' kw_min_min', 0.015734385666768075),\n",
       " (' abs_title_sentiment_polarity', 0.013973236083984375),\n",
       " (' abs_title_subjectivity', 0.012529373168945312),\n",
       " (' global_rate_negative_words', 0.009127140045166016),\n",
       " (' max_positive_polarity', 0.009106159210205078),\n",
       " (' num_keywords', 0.008247536268603223),\n",
       " (' title_sentiment_polarity', 0.0068798065185546875),\n",
       " (' min_negative_polarity', 0.006839752197265625),\n",
       " (' global_sentiment_polarity', 0.006675243377685547),\n",
       " (' num_imgs', 0.00497446487355583),\n",
       " (' num_videos', 0.0029709645877957717),\n",
       " (' title_subjectivity', -0.004020214080810547),\n",
       " (' max_negative_polarity', -0.004930973052978516),\n",
       " (' kw_max_max', -0.006086789643466224),\n",
       " (' min_positive_polarity', -0.008487701416015625),\n",
       " (' kw_min_max', -0.009537907661784606),\n",
       " (' self_reference_max_shares', -0.011581889811091345),\n",
       " (' kw_avg_max', -0.01596072624643552),\n",
       " (' avg_positive_polarity', -0.017836809158325195),\n",
       " (' data_channel_is_socmed', -0.01784660521704813),\n",
       " (' avg_negative_polarity', -0.018636703491210938),\n",
       " (' num_self_hrefs', -0.019363509270009197),\n",
       " (' global_rate_positive_words', -0.02439737319946289),\n",
       " (' data_channel_is_lifestyle', -0.027257887919610868),\n",
       " (' data_channel_is_tech', -0.02867409108981385),\n",
       " (' data_channel_is_world', -0.03077223742706016),\n",
       " (' kw_min_avg', -0.031715861502917775),\n",
       " (' kw_avg_min', -0.03193359646264185),\n",
       " (' data_channel_is_bus', -0.0345422914221828),\n",
       " (' average_token_length', -0.04149113669016708),\n",
       " (' data_channel_is_entertainment', -0.04782209606363669),\n",
       " (' kw_max_avg', -0.10124048333395341),\n",
       " (' n_non_stop_unique_tokens', -0.43056229717958594),\n",
       " (' n_non_stop_words', -0.7492971587816551),\n",
       " (' LDA_01', -1.9935483932495117),\n",
       " (' LDA_00', -2.366115689277649),\n",
       " (' LDA_02', -2.56942081451416),\n",
       " (' LDA_04', -2.6152420043945312),\n",
       " (' LDA_03', -2.670140266418457),\n",
       " (' is_weekend', -53685380283.75163)]"
      ]
     },
     "execution_count": 71,
     "metadata": {},
     "output_type": "execute_result"
    }
   ],
   "source": [
    "sorted_fi = sorted(fi.items(), key=lambda x: x[1], reverse=True)\n",
    "sorted_fi"
   ]
  }
 ],
 "metadata": {
  "kernelspec": {
   "display_name": "Python 3",
   "language": "python",
   "name": "python3"
  },
  "language_info": {
   "codemirror_mode": {
    "name": "ipython",
    "version": 3
   },
   "file_extension": ".py",
   "mimetype": "text/x-python",
   "name": "python",
   "nbconvert_exporter": "python",
   "pygments_lexer": "ipython3",
   "version": "3.0.0"
  }
 },
 "nbformat": 4,
 "nbformat_minor": 2
}
