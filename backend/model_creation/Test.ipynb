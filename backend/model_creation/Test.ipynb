{
 "cells": [
  {
   "cell_type": "code",
   "execution_count": 3,
   "metadata": {},
   "outputs": [
    {
     "name": "stdout",
     "output_type": "stream",
     "text": [
      "{'uci_id': 332, 'name': 'Online News Popularity', 'repository_url': 'https://archive.ics.uci.edu/dataset/332/online+news+popularity', 'data_url': 'https://archive.ics.uci.edu/static/public/332/data.csv', 'abstract': 'This dataset summarizes a heterogeneous set of features about articles published by Mashable in a period of two years. The goal is to predict the number of shares in social networks (popularity).', 'area': 'Business', 'tasks': ['Classification', 'Regression'], 'characteristics': ['Multivariate'], 'num_instances': 39797, 'num_features': 58, 'feature_types': ['Integer', 'Real'], 'demographics': [], 'target_col': [' shares'], 'index_col': ['url'], 'has_missing_values': 'no', 'missing_values_symbol': None, 'year_of_dataset_creation': 2015, 'last_updated': 'Thu Feb 15 2024', 'dataset_doi': '10.24432/C5NS3V', 'creators': ['Kelwin Fernandes', 'Pedro Vinagre', 'Paulo Cortez', 'Pedro Sernadela'], 'intro_paper': {'title': 'A Proactive Intelligent Decision Support System for Predicting the Popularity of Online News', 'authors': 'Kelwin Fernandes, Pedro Vinagre, P. Cortez', 'published_in': 'Portuguese Conference on Artificial Intelligence', 'year': 2015, 'url': 'https://www.semanticscholar.org/paper/A-Proactive-Intelligent-Decision-Support-System-for-Fernandes-Vinagre/ad7f3da7a5d6a1e18cc5a176f18f52687b912fea', 'doi': None}, 'additional_info': {'summary': '* The articles were published by Mashable (www.mashable.com) and their content as the rights to reproduce it belongs to them. Hence, this dataset does not share the original content but some statistics associated with it. The original content be publicly accessed and retrieved using the provided urls.\\r\\n* Acquisition date: January 8, 2015\\r\\n* The estimated relative performance values were estimated by the authors using a Random Forest classifier and a rolling windows as assessment method.  See their article for more details on how the relative performance values were set.', 'purpose': None, 'funded_by': None, 'instances_represent': None, 'recommended_data_splits': None, 'sensitive_data': None, 'preprocessing_description': None, 'variable_info': \"Number of Attributes: 61 (58 predictive attributes, 2 non-predictive, 1 goal field)\\r\\n\\r\\nAttribute Information:\\r\\n     0. url:                           URL of the article (non-predictive)\\r\\n     1. timedelta:                     Days between the article publication and the dataset acquisition (non-predictive)\\r\\n     2. n_tokens_title:                Number of words in the title\\r\\n     3. n_tokens_content:              Number of words in the content\\r\\n     4. n_unique_tokens:               Rate of unique words in the content\\r\\n     5. n_non_stop_words:              Rate of non-stop words in the content\\r\\n     6. n_non_stop_unique_tokens:      Rate of unique non-stop words in the content\\r\\n     7. num_hrefs:                     Number of links\\r\\n     8. num_self_hrefs:                Number of links to other articles published by Mashable\\r\\n     9. num_imgs:                      Number of images\\r\\n    10. num_videos:                    Number of videos\\r\\n    11. average_token_length:          Average length of the words in the content\\r\\n    12. num_keywords:                  Number of keywords in the metadata\\r\\n    13. data_channel_is_lifestyle:     Is data channel 'Lifestyle'?\\r\\n    14. data_channel_is_entertainment: Is data channel 'Entertainment'?\\r\\n    15. data_channel_is_bus:           Is data channel 'Business'?\\r\\n    16. data_channel_is_socmed:        Is data channel 'Social Media'?\\r\\n    17. data_channel_is_tech:          Is data channel 'Tech'?\\r\\n    18. data_channel_is_world:         Is data channel 'World'?\\r\\n    19. kw_min_min:                    Worst keyword (min. shares)\\r\\n    20. kw_max_min:                    Worst keyword (max. shares)\\r\\n    21. kw_avg_min:                    Worst keyword (avg. shares)\\r\\n    22. kw_min_max:                    Best keyword (min. shares)\\r\\n    23. kw_max_max:                    Best keyword (max. shares)\\r\\n    24. kw_avg_max:                    Best keyword (avg. shares)\\r\\n    25. kw_min_avg:                    Avg. keyword (min. shares)\\r\\n    26. kw_max_avg:                    Avg. keyword (max. shares)\\r\\n    27. kw_avg_avg:                    Avg. keyword (avg. shares)\\r\\n    28. self_reference_min_shares:     Min. shares of referenced articles in Mashable\\r\\n    29. self_reference_max_shares:     Max. shares of referenced articles in Mashable\\r\\n    30. self_reference_avg_sharess:    Avg. shares of referenced articles in Mashable\\r\\n    31. weekday_is_monday:             Was the article published on a Monday?\\r\\n    32. weekday_is_tuesday:            Was the article published on a Tuesday?\\r\\n    33. weekday_is_wednesday:          Was the article published on a Wednesday?\\r\\n    34. weekday_is_thursday:           Was the article published on a Thursday?\\r\\n    35. weekday_is_friday:             Was the article published on a Friday?\\r\\n    36. weekday_is_saturday:           Was the article published on a Saturday?\\r\\n    37. weekday_is_sunday:             Was the article published on a Sunday?\\r\\n    38. is_weekend:                    Was the article published on the weekend?\\r\\n    39. LDA_00:                        Closeness to LDA topic 0\\r\\n    40. LDA_01:                        Closeness to LDA topic 1\\r\\n    41. LDA_02:                        Closeness to LDA topic 2\\r\\n    42. LDA_03:                        Closeness to LDA topic 3\\r\\n    43. LDA_04:                        Closeness to LDA topic 4\\r\\n    44. global_subjectivity:           Text subjectivity\\r\\n    45. global_sentiment_polarity:     Text sentiment polarity\\r\\n    46. global_rate_positive_words:    Rate of positive words in the content\\r\\n    47. global_rate_negative_words:    Rate of negative words in the content\\r\\n    48. rate_positive_words:           Rate of positive words among non-neutral tokens\\r\\n    49. rate_negative_words:           Rate of negative words among non-neutral tokens\\r\\n    50. avg_positive_polarity:         Avg. polarity of positive words\\r\\n    51. min_positive_polarity:         Min. polarity of positive words\\r\\n    52. max_positive_polarity:         Max. polarity of positive words\\r\\n    53. avg_negative_polarity:         Avg. polarity of negative  words\\r\\n    54. min_negative_polarity:         Min. polarity of negative  words\\r\\n    55. max_negative_polarity:         Max. polarity of negative  words\\r\\n    56. title_subjectivity:            Title subjectivity\\r\\n    57. title_sentiment_polarity:      Title polarity\\r\\n    58. abs_title_subjectivity:        Absolute subjectivity level\\r\\n    59. abs_title_sentiment_polarity:  Absolute polarity level\\r\\n    60. shares:                        Number of shares (target)\", 'citation': None}}\n",
      "                             name     role         type demographic  \\\n",
      "0                             url       ID  Categorical        None   \n",
      "1                       timedelta    Other   Continuous        None   \n",
      "2                  n_tokens_title  Feature   Continuous        None   \n",
      "3                n_tokens_content  Feature   Continuous        None   \n",
      "4                 n_unique_tokens  Feature   Continuous        None   \n",
      "..                            ...      ...          ...         ...   \n",
      "56             title_subjectivity  Feature   Continuous        None   \n",
      "57       title_sentiment_polarity  Feature   Continuous        None   \n",
      "58         abs_title_subjectivity  Feature   Continuous        None   \n",
      "59   abs_title_sentiment_polarity  Feature   Continuous        None   \n",
      "60                         shares   Target      Integer        None   \n",
      "\n",
      "   description units missing_values  \n",
      "0         None  None             no  \n",
      "1         None  None             no  \n",
      "2         None  None             no  \n",
      "3         None  None             no  \n",
      "4         None  None             no  \n",
      "..         ...   ...            ...  \n",
      "56        None  None             no  \n",
      "57        None  None             no  \n",
      "58        None  None             no  \n",
      "59        None  None             no  \n",
      "60        None  None             no  \n",
      "\n",
      "[61 rows x 7 columns]\n"
     ]
    }
   ],
   "source": [
    "from ucimlrepo import fetch_ucirepo\n",
    "\n",
    "# fetch dataset\n",
    "online_news_popularity = fetch_ucirepo(id=332)\n",
    "\n",
    "# data (as pandas dataframes)\n",
    "X = online_news_popularity.data.features\n",
    "y = online_news_popularity.data.targets\n",
    "\n",
    "# metadata\n",
    "print(online_news_popularity.metadata)\n",
    "\n",
    "# variable information\n",
    "print(online_news_popularity.variables)"
   ]
  }
 ],
 "metadata": {
  "kernelspec": {
   "display_name": "Python 3 (ipykernel)",
   "language": "python",
   "name": "python3"
  },
  "language_info": {
   "codemirror_mode": {
    "name": "ipython",
    "version": 3
   },
   "file_extension": ".py",
   "mimetype": "text/x-python",
   "name": "python",
   "nbconvert_exporter": "python",
   "pygments_lexer": "ipython3",
   "version": "3.9.0"
  }
 },
 "nbformat": 4,
 "nbformat_minor": 2
}
