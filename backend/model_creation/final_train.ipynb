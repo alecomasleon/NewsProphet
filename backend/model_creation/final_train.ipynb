{
 "cells": [
  {
   "cell_type": "code",
   "execution_count": 4,
   "metadata": {},
   "outputs": [],
   "source": [
    "import sys\n",
    "sys.path.append('/usr/local/lib/python3.9/site-packages/')\n",
    "from sklearn import tree\n",
    "from sklearn.model_selection import train_test_split\n",
    "import pandas as pd"
   ]
  },
  {
   "cell_type": "code",
   "execution_count": 5,
   "metadata": {},
   "outputs": [],
   "source": [
    "%run new_preprocess.ipynb"
   ]
  },
  {
   "cell_type": "code",
   "execution_count": 8,
   "metadata": {},
   "outputs": [
    {
     "name": "stdout",
     "output_type": "stream",
     "text": [
      "X shape: (37184, 30) y shape: (37184,)\n",
      "   n_tokens_title  n_tokens_content  n_unique_tokens  n_non_stop_words  \\\n",
      "0        0.568402         -0.482416         0.464035         -0.053773   \n",
      "1       -0.936115         -0.385526        -0.058561         -0.289014   \n",
      "2       -0.936115         -0.525478         0.006105         -0.097607   \n",
      "3       -0.434609          0.179662        -0.930487         -0.283845   \n",
      "4        1.069907         -0.272489        -0.670943          0.259249   \n",
      "\n",
      "   n_non_stop_unique_tokens  num_hrefs  num_imgs  num_videos  \\\n",
      "0                 -0.482573  -0.355635 -0.359171         0.0   \n",
      "1                 -0.392488  -0.628467 -0.359171         0.0   \n",
      "2                 -0.617700  -0.628467 -0.359171         0.0   \n",
      "3                  0.163033  -0.492051  0.097206         0.0   \n",
      "4                 -0.324925  -0.901300 -0.359171         0.0   \n",
      "\n",
      "   average_token_length  weekday_is_monday  ...  global_rate_negative_words  \\\n",
      "0             -0.324683                  1  ...                   -1.916835   \n",
      "1              0.229193                  1  ...                   -1.916835   \n",
      "2             -0.462749                  1  ...                   -1.916835   \n",
      "3             -1.200007                  1  ...                   -1.916835   \n",
      "4             -0.515447                  1  ...                   -1.916835   \n",
      "\n",
      "   rate_positive_words  rate_negative_words  avg_positive_polarity  \\\n",
      "0             1.916923            -1.916923              -3.877350   \n",
      "1             1.916923            -1.916923              -0.390808   \n",
      "2             1.916923            -1.916923              10.036819   \n",
      "3             1.916923            -1.916923              -2.272690   \n",
      "4             1.916923            -1.916923               1.838913   \n",
      "\n",
      "   max_positive_polarity  avg_negative_polarity  min_negative_polarity  \\\n",
      "0              -3.235580                0.15777              10.456895   \n",
      "1              -2.629474                0.15777              10.456895   \n",
      "2              -0.754959                0.15777              10.456895   \n",
      "3              -0.754959                0.15777              10.456895   \n",
      "4              -0.754959                0.15777              10.456895   \n",
      "\n",
      "   title_subjectivity  title_sentiment_polarity  abs_title_sentiment_polarity  \n",
      "0            0.693039                 -0.959008                      0.153402  \n",
      "1           -0.838585                 -0.253259                     -0.670178  \n",
      "2           -0.838585                 -0.253259                     -0.670178  \n",
      "3           -0.838585                 -0.253259                     -0.670178  \n",
      "4            0.553800                  0.260013                     -0.071210  \n",
      "\n",
      "[5 rows x 30 columns]\n",
      "X_train shape: (33464, 30) y_train shape: (33464,)\n",
      "X_val shape: (1, 30) y_val shape: (1,)\n",
      "X_test shape: (3719, 30) y_test shape: (3719,)\n"
     ]
    }
   ],
   "source": [
    "def split(X, y, test_size, val_size):\n",
    "    X_train, X_test, y_train, y_test = train_test_split(X, y, test_size=test_size, random_state=1)\n",
    "    X_train, X_val, y_train, y_val = train_test_split(X_train, y_train, test_size=val_size/(1-test_size), random_state=1)\n",
    "\n",
    "    return X_train, y_train, X_val, y_val, X_test, y_test\n",
    "\n",
    "df = pd.read_csv('cleaned_extracted_data.csv')\n",
    "df = df.drop('Unnamed: 0', axis=1)\n",
    "X = df.drop('shares', axis=1)\n",
    "y = df['shares']\n",
    "print(f\"X shape: {X.shape}\", f\"y shape: {y.shape}\")\n",
    "print(X.head())\n",
    "X_train, y_train, X_val, y_val, X_test, y_test = split(X, y, 0.1, 0.0000001)\n",
    "print(f\"X_train shape: {X_train.shape}\", f\"y_train shape: {y_train.shape}\")\n",
    "print(f\"X_val shape: {X_val.shape}\", f\"y_val shape: {y_val.shape}\")\n",
    "print(f\"X_test shape: {X_test.shape}\", f\"y_test shape: {y_test.shape}\")"
   ]
  },
  {
   "cell_type": "code",
   "execution_count": 9,
   "metadata": {},
   "outputs": [
    {
     "name": "stdout",
     "output_type": "stream",
     "text": [
      "test accuracy: -0.0032282472751212765\n"
     ]
    }
   ],
   "source": [
    "bestest_tree = tree.DecisionTreeRegressor(criterion=\"friedman_mse\", splitter=\"best\", max_depth=1, min_samples_split=37)\n",
    "bestest_tree.fit(X_train, y_train)\n",
    "print(f\"test accuracy: {bestest_tree.score(X_test, y_test)}\")"
   ]
  },
  {
   "cell_type": "code",
   "execution_count": 11,
   "metadata": {},
   "outputs": [
    {
     "name": "stdout",
     "output_type": "stream",
     "text": [
      "aaaaaaaa\n"
     ]
    }
   ],
   "source": [
    "import pickle\n",
    "# pickle the model\n",
    "serialized = pickle.dumps(bestest_tree)\n",
    "\n",
    "with open('model.pkl', 'wb') as file:\n",
    "    print(\"aaaaaaaa\")\n",
    "    # A new file will be created\n",
    "    pickle.dump(bestest_tree, file)"
   ]
  }
 ],
 "metadata": {
  "kernelspec": {
   "display_name": "Python 3",
   "language": "python",
   "name": "python3"
  },
  "language_info": {
   "codemirror_mode": {
    "name": "ipython",
    "version": 3
   },
   "file_extension": ".py",
   "mimetype": "text/x-python",
   "name": "python",
   "nbconvert_exporter": "python",
   "pygments_lexer": "ipython3",
   "version": "3.9.6"
  }
 },
 "nbformat": 4,
 "nbformat_minor": 2
}
